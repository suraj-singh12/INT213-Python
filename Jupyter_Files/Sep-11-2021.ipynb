{
 "cells": [
  {
   "cell_type": "code",
   "execution_count": null,
   "source": [
    "\n",
    "#1 normal function (basic)\n",
    "print(\"======= Basic type =======\")\n",
    "# function definition\n",
    "def greetings(name, msg):\n",
    "    print(msg,name,\"!!\")\n",
    "\n",
    "# calling\n",
    "greetings(\"Suraj\",\"Good Morning\")\n",
    "#----------------------------------------------------\n",
    "\n",
    "print(\"\\n======= default arguments =======\")\n",
    "#2 with default arguments\n",
    "def greeting2(name, msg=\"good morning\"):\n",
    "    print(msg,name,\"!!\")\n",
    "\n",
    "greeting2(\"Suraj\",\"Get up\")\n",
    "#----------------------------------------------------\n",
    "\n",
    "print(\"\\n======= keyword arguments =======\")\n",
    "#3 keyword argument\n",
    "def greeting3(name, msg):\n",
    "    print(msg,name,\"!!\")\n",
    "\n",
    "# see how we are making the call\n",
    "greeting3(msg=\"Get up\",name=\"Suraj\")\n",
    "\n",
    "# greeting3(msg=\"Get up\",Suraj\")      # error because positional argument cannot follow keyword argument\n",
    "greeting3(\"Suraj\",msg=\"Get up\")     # but a keyword argument can follow a positional argument\n",
    "#----------------------------------------------------\n",
    "\n",
    "print(\"\\n======= arbitrary arguments =======\")\n",
    "#4 arbitrary arguments\n",
    "def greeting4(msg, *names):\n",
    "    for name in names:\n",
    "        print(msg, name, \"!!\")\n",
    "\n",
    "greeting4(\"Wish you a very good morning\",\"Fury\",\"Michael\",\"Suraj\",\"Tarun\",\"Aman\",\"Ajay\")"
   ],
   "outputs": [],
   "metadata": {}
  },
  {
   "cell_type": "code",
   "execution_count": null,
   "source": [
    "\n",
    "# function to check if the number is even or odd\n",
    "def isEven(num):\n",
    "    if num % 2 == 0:\n",
    "        return True\n",
    "    return False\n",
    "\n",
    "number = int(input(\"Enter the number: \"))\n",
    "print(isEven(number))"
   ],
   "outputs": [],
   "metadata": {}
  },
  {
   "cell_type": "code",
   "execution_count": null,
   "source": [
    "\n",
    "def absolute(val):\n",
    "    if val < 0:\n",
    "        return (-1) * val\n",
    "    else:\n",
    "        return val\n",
    "\n",
    "print(absolute(-5))"
   ],
   "outputs": [],
   "metadata": {}
  },
  {
   "cell_type": "code",
   "execution_count": null,
   "source": [
    "\n",
    "def maxOf3(n1, n2, n3):\n",
    "    if n1 > n2 and n1 > n3:\n",
    "        return n1\n",
    "    elif n2 > n3 and n2 > n1:\n",
    "        return n2\n",
    "    else:\n",
    "        return n3\n",
    "\n",
    "n1 = int(input(\"Enter number1: \"))\n",
    "n2 = int(input(\"Enter number2: \"))\n",
    "n3 = int(input(\"Enter number3: \"))\n",
    "\n",
    "print(\"The maximum of all numbers is: \", maxOf3(n1,n2,n3))\n"
   ],
   "outputs": [],
   "metadata": {}
  },
  {
   "cell_type": "code",
   "execution_count": null,
   "source": [
    "def maxOfAll(*nums):\n",
    "    return max(nums)\n",
    "\n",
    "print(maxOfAll(5,2,6,8,1,98,21,45,54))"
   ],
   "outputs": [],
   "metadata": {}
  }
 ],
 "metadata": {
  "orig_nbformat": 4,
  "language_info": {
   "name": "python",
   "version": "3.8.8",
   "mimetype": "text/x-python",
   "codemirror_mode": {
    "name": "ipython",
    "version": 3
   },
   "pygments_lexer": "ipython3",
   "nbconvert_exporter": "python",
   "file_extension": ".py"
  },
  "kernelspec": {
   "name": "python3",
   "display_name": "Python 3.8.8 64-bit ('base': conda)"
  },
  "interpreter": {
   "hash": "455ab5cfbe64c0a2693a555ef07bea68f13a4fdf9ca442f254316cb18226f2df"
  }
 },
 "nbformat": 4,
 "nbformat_minor": 2
}