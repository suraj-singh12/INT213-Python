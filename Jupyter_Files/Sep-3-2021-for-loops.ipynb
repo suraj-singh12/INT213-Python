{
 "cells": [
  {
   "cell_type": "code",
   "execution_count": null,
   "id": "2b1beb34",
   "metadata": {},
   "outputs": [],
   "source": []
  },
  {
   "cell_type": "code",
   "execution_count": 2,
   "id": "27642382",
   "metadata": {},
   "outputs": [
    {
     "name": "stdout",
     "output_type": "stream",
     "text": [
      "Enter the number: 12345\n",
      "The reversed number is:  54321\n"
     ]
    }
   ],
   "source": [
    "# reverse the number\n",
    "\n",
    "number = int(input(\"Enter the number: \"))\n",
    "revNumber = 0\n",
    "while(number>0):\n",
    "    remainder = number % 10\n",
    "    revNumber = revNumber*10 + remainder\n",
    "    number = number // 10\n",
    "print(\"The reversed number is: \", revNumber)\n"
   ]
  },
  {
   "cell_type": "code",
   "execution_count": 4,
   "id": "cef8f89c",
   "metadata": {},
   "outputs": [
    {
     "name": "stdout",
     "output_type": "stream",
     "text": [
      "1505\n",
      "1540\n",
      "1575\n",
      "1610\n",
      "1645\n",
      "1680\n",
      "1715\n",
      "1750\n",
      "1785\n",
      "1820\n",
      "1855\n",
      "1890\n",
      "1925\n",
      "1960\n",
      "1995\n",
      "2030\n",
      "2065\n",
      "2100\n",
      "2135\n",
      "2170\n",
      "2205\n",
      "2240\n",
      "2275\n",
      "2310\n",
      "2345\n",
      "2380\n",
      "2415\n",
      "2450\n",
      "2485\n",
      "2520\n",
      "2555\n",
      "2590\n",
      "2625\n",
      "2660\n",
      "2695\n"
     ]
    }
   ],
   "source": [
    "# print all nubmers in between 1500 and 2700 which are divisible by 7 and multiples of 5\n",
    "for i in range(1500,2701):\n",
    "    if i%5 == 0 and i%7 == 0:\n",
    "        print(i)\n"
   ]
  },
  {
   "cell_type": "code",
   "execution_count": 13,
   "id": "9e34b8f3",
   "metadata": {},
   "outputs": [
    {
     "name": "stdout",
     "output_type": "stream",
     "text": [
      "Enter number of terms(>=2): 5\n",
      "0 1 1 2 3 "
     ]
    }
   ],
   "source": [
    "# print fibonacci series\n",
    "\n",
    "terms = int(input(\"Enter number of terms(>=2): \"))\n",
    "first = 0\n",
    "second = 1\n",
    "print(first, second, end = \" \")\n",
    "terms = terms - 2        # because 2 terms are already printed\n",
    "\n",
    "while (terms > 0):\n",
    "    next = first + second \n",
    "    first = second \n",
    "    second = next\n",
    "    print(next, end = \" \")\n",
    "    terms = terms -1\n"
   ]
  },
  {
   "cell_type": "code",
   "execution_count": 14,
   "id": "f5df2e8a",
   "metadata": {},
   "outputs": [
    {
     "name": "stdout",
     "output_type": "stream",
     "text": [
      "1\n",
      "2\n",
      "Fizz\n",
      "4\n",
      "Buzz\n",
      "Fizz\n",
      "7\n",
      "8\n",
      "Fizz\n",
      "Buzz\n",
      "11\n",
      "Fizz\n",
      "13\n",
      "14\n",
      "FizzBuzz\n",
      "16\n",
      "17\n",
      "Fizz\n",
      "19\n",
      "Buzz\n",
      "Fizz\n",
      "22\n",
      "23\n",
      "Fizz\n",
      "Buzz\n",
      "26\n",
      "Fizz\n",
      "28\n",
      "29\n",
      "FizzBuzz\n",
      "31\n",
      "32\n",
      "Fizz\n",
      "34\n",
      "Buzz\n",
      "Fizz\n",
      "37\n",
      "38\n",
      "Fizz\n",
      "Buzz\n",
      "41\n",
      "Fizz\n",
      "43\n",
      "44\n",
      "FizzBuzz\n",
      "46\n",
      "47\n",
      "Fizz\n",
      "49\n",
      "Buzz\n"
     ]
    }
   ],
   "source": [
    "# in 1 and 50 print Fizz if i is multiple of 3, Buzz if i is multiple of 5, FizzBuzz if mutliple of both, \n",
    "# otherwise print the number itself\n",
    "for i in range(1,51):\n",
    "    if (i%3 == 0 and i%5 == 0):\n",
    "        print(\"FizzBuzz\")\n",
    "    elif (i%3 == 0):\n",
    "        print(\"Fizz\")\n",
    "    elif (i%5 == 0):\n",
    "        print(\"Buzz\")\n",
    "    else:\n",
    "        print(i)\n"
   ]
  },
  {
   "cell_type": "code",
   "execution_count": 20,
   "id": "f25a482a",
   "metadata": {},
   "outputs": [
    {
     "name": "stdout",
     "output_type": "stream",
     "text": [
      "Enter a lowercase character: f\n",
      "Consonant\n"
     ]
    }
   ],
   "source": [
    "# find if the entered character a vowel or consonant\n",
    "ch = input(\"Enter a lowercase character: \")\n",
    "if (ch == 'a' or ch == 'e' or ch == 'i' or ch == 'o' or ch == 'u'):\n",
    "    print(\"Vowel\")\n",
    "else:\n",
    "    print(\"Consonant\")"
   ]
  },
  {
   "cell_type": "code",
   "execution_count": 24,
   "id": "cdc11de9",
   "metadata": {},
   "outputs": [
    {
     "name": "stdout",
     "output_type": "stream",
     "text": [
      "Enter side1: 5\n",
      "Enter side2: 5\n",
      "Enter side3: 6\n",
      "Isosceles\n"
     ]
    }
   ],
   "source": [
    "# check if a triangle is equilateral, isosceles, or scalene\n",
    "s1 = int(input(\"Enter side1: \"))\n",
    "s2 = int(input(\"Enter side2: \"))\n",
    "s3 = int(input(\"Enter side3: \"))\n",
    "\n",
    "if s1 == s2 == s3:\n",
    "    print(\"Equilateral\")\n",
    "elif s1 == s2 or s2 == s3 or s3 == s1:\n",
    "    print(\"Isosceles\")\n",
    "else:\n",
    "    print(\"Scalene\")"
   ]
  },
  {
   "cell_type": "code",
   "execution_count": 40,
   "id": "0270a58e",
   "metadata": {},
   "outputs": [
    {
     "name": "stdout",
     "output_type": "stream",
     "text": [
      "Enter the string: fdg\n",
      "gdf\n",
      "gdf\n"
     ]
    }
   ],
   "source": [
    "# reverse a string and print it without using a built in function\n",
    "s = input(\"Enter the string: \")\n",
    "\n",
    "revS = \"\"\n",
    "for i in s:\n",
    "    revS = i + revS\n",
    "print(revS)\n",
    "\n",
    "for i in range(len(s)-1,-1,-1):\n",
    "    print(s[i], end=\"\")\n",
    "print()"
   ]
  },
  {
   "cell_type": "code",
   "execution_count": null,
   "id": "d6c3ee67",
   "metadata": {},
   "outputs": [],
   "source": []
  }
 ],
 "metadata": {
  "kernelspec": {
   "display_name": "Python 3",
   "language": "python",
   "name": "python3"
  },
  "language_info": {
   "codemirror_mode": {
    "name": "ipython",
    "version": 3
   },
   "file_extension": ".py",
   "mimetype": "text/x-python",
   "name": "python",
   "nbconvert_exporter": "python",
   "pygments_lexer": "ipython3",
   "version": "3.8.8"
  }
 },
 "nbformat": 4,
 "nbformat_minor": 5
}
