{
 "cells": [
  {
   "cell_type": "markdown",
   "source": [
    "--------------------\n",
    "Dictionaries\n",
    "\n",
    "------------------"
   ],
   "metadata": {}
  },
  {
   "cell_type": "code",
   "execution_count": null,
   "source": [
    "# d = {key1: value, key2: value, ....., keyN: value}\n",
    "\n",
    "d = {}      # empty dictionary\n",
    "\n",
    "d2 = {\"one\":1,\"two\":2,\"three\":3};       # creating a dict (with key value pairs)\n",
    "print(\"d2: \", d2)\n",
    "\n",
    "d3 = {}\n",
    "d3[1] = \"one\"       # at [key] insert element\n",
    "d3[5] = \"five\"\n",
    "print(\"d3: \", d3)\n",
    "\n",
    "print(d2.get(\"one\"))        # find the value at key\n",
    "d2[\"one\"] = 10          # at key \"one\" insert value 10\n",
    "print(\"d2: \", d2)\n",
    "\n",
    "d2[\"ten\"] = 10          # inserting one more key value pair\n",
    "print(\"d2: \", d2)\n",
    "\n",
    "del d2[\"two\"]       # delete the key value pair of this key\n",
    "print(\"d2: \", d2)"
   ],
   "outputs": [],
   "metadata": {}
  },
  {
   "cell_type": "code",
   "execution_count": null,
   "source": [
    "# dictionary methods/fuctions\n",
    "d2 = {\"one\":1,\"two\":2,\"three\":3};\n",
    "print(\"keys: \", d2.keys())\n",
    "print(\"values: \", d2.values())\n",
    "print(\"key value pairs: \", d2.items())\n"
   ],
   "outputs": [],
   "metadata": {}
  },
  {
   "cell_type": "code",
   "execution_count": null,
   "source": [
    "# aliasing\n",
    "d2 = {\"one\":1,\"two\":2,\"three\":3};\n",
    "f = d2      # f is an alias of d2\n",
    "\n",
    "f[\"one\"] = 7    # see changing a key's value in f\n",
    "print(\"d2: \", d2)       # reflects the same in d2\n",
    "print(\"f: \", f)\n",
    "\n"
   ],
   "outputs": [],
   "metadata": {}
  },
  {
   "cell_type": "code",
   "execution_count": null,
   "source": [
    "# creating a deep copy (not alias)\n",
    "d2 = {\"one\":1,\"two\":2,\"three\":3};\n",
    "\n",
    "g = d2.copy()       # creating a copy (a deep copy of d2 in g)\n",
    "g[\"two\"] = 100\n",
    "print(\"d2: \", d2)       # see g is not a alias of d2\n",
    "print(\"g: \",g)"
   ],
   "outputs": [],
   "metadata": {}
  },
  {
   "cell_type": "code",
   "execution_count": null,
   "source": [
    "# sparse matrix problem is solved using dictionaries efficiently\n",
    "# very important thing (check ppt)\n",
    "\n",
    "# dictionary's syntax can't show a zero in sparse matrix\n",
    "# matrix.get((x,y),0)       # print what is at (x,y) in matrix; if there is nothing there, print 0\n"
   ],
   "outputs": [],
   "metadata": {}
  },
  {
   "cell_type": "code",
   "execution_count": null,
   "source": [
    "# fibonacci series problem is also solved using dictionaries efficiently\n",
    "# 0 1 1 2 3 5 8 13 ....\n",
    "previous = {1:0, 2:1}       # 1st two terms are 0, 1\n",
    "\n",
    "def fib(n):\n",
    "    if n in previous:       # check if this term is already in previous dict; if yes, just return the value\n",
    "        return previous[n]\n",
    "    else:                   # if not found in previous\n",
    "        new = fib(n-1) + fib(n-2)   # calculate \n",
    "        previous[n] = new       # store in previous\n",
    "        return new          # and now return the value\n",
    "\n",
    "n = 7\n",
    "print(fib(n)) "
   ],
   "outputs": [],
   "metadata": {}
  },
  {
   "cell_type": "code",
   "execution_count": 26,
   "source": [
    "# Question: what is the output of the following code\n",
    "\n",
    "d1 ={\"abc\":1,\"def\":2,\"ghi\":3}\n",
    "print(d1[0])\n",
    "\n",
    "\n",
    "# gives error because there is no key 0 in d1\n",
    "# a safe way is to use get method \n",
    "# d1.get(key)       # if the key is present value will be returned; otherwise None is returned"
   ],
   "outputs": [
    {
     "output_type": "stream",
     "name": "stdout",
     "text": [
      "None\n"
     ]
    }
   ],
   "metadata": {}
  },
  {
   "cell_type": "code",
   "execution_count": 27,
   "source": [
    "# find the frequency of a character in a string using dictionary\n",
    "word = \"MISSISSIPPI\"\n",
    "frequency = {}\n",
    "for elem in word:\n",
    "    if elem not in frequency:\n",
    "        frequency[elem] = 1\n",
    "    else:\n",
    "        frequency[elem] += 1\n",
    "\n",
    "print(frequency)"
   ],
   "outputs": [
    {
     "output_type": "stream",
     "name": "stdout",
     "text": [
      "{'M': 1, 'I': 4, 'S': 4, 'P': 2}\n"
     ]
    }
   ],
   "metadata": {}
  },
  {
   "cell_type": "code",
   "execution_count": null,
   "source": [],
   "outputs": [],
   "metadata": {}
  }
 ],
 "metadata": {
  "orig_nbformat": 4,
  "language_info": {
   "name": "python",
   "version": "3.8.8",
   "mimetype": "text/x-python",
   "codemirror_mode": {
    "name": "ipython",
    "version": 3
   },
   "pygments_lexer": "ipython3",
   "nbconvert_exporter": "python",
   "file_extension": ".py"
  },
  "kernelspec": {
   "name": "python3",
   "display_name": "Python 3.8.8 64-bit ('base': conda)"
  },
  "interpreter": {
   "hash": "455ab5cfbe64c0a2693a555ef07bea68f13a4fdf9ca442f254316cb18226f2df"
  }
 },
 "nbformat": 4,
 "nbformat_minor": 2
}