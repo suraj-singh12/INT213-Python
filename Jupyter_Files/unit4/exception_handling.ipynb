{
 "cells": [
  {
   "cell_type": "markdown",
   "metadata": {},
   "source": [
    "# Exception"
   ]
  },
  {
   "cell_type": "code",
   "execution_count": null,
   "metadata": {},
   "outputs": [],
   "source": [
    "## Some predefined errors :\n",
    "\n",
    "# ZeroDivisionError\n",
    "# IndexError\n",
    "# KeyError\n",
    "# IOError\n",
    "# ArithmeticError\n",
    "# OverflowError\n",
    "# FloatingPointError\n",
    "# KeyboardInterrupt\n",
    "# NameError\n",
    "# SyntaxError\n",
    "# TypeError"
   ]
  },
  {
   "cell_type": "code",
   "execution_count": null,
   "metadata": {},
   "outputs": [],
   "source": [
    "# try, except, finally\n",
    "\n",
    "# Syntax:\n",
    "# try:\n",
    "#     # problem code\n",
    "# except ExceptionType1:\n",
    "#     # code\n",
    "# except ExceptionType2:\n",
    "#     # code\n",
    "# else:\n",
    "#     # code \n"
   ]
  },
  {
   "cell_type": "code",
   "execution_count": 7,
   "metadata": {},
   "outputs": [
    {
     "name": "stdout",
     "output_type": "stream",
     "text": [
      "All Good\n"
     ]
    }
   ],
   "source": [
    "#\n",
    "\n",
    "try:\n",
    "    f1 = open(\"test1.txt\",\"r\")\n",
    "    f1.close()\n",
    "except FileNotFoundError:\n",
    "    print(\"Error, file not found!\")\n",
    "except IOError:\n",
    "    print(\"IOError occurred\")\n",
    "except NameError:\n",
    "    print(\"NameError occurred\")\n",
    "else:\n",
    "    print(\"All Good\")\n"
   ]
  },
  {
   "cell_type": "code",
   "execution_count": 6,
   "metadata": {},
   "outputs": [
    {
     "name": "stdout",
     "output_type": "stream",
     "text": [
      "This block will always get execute\n"
     ]
    }
   ],
   "source": [
    "# finally block is always executed, even after an exception is raised\n",
    "# we can either use else, or finally but not both \n",
    "\n",
    "try:\n",
    "    f1 = open(\"test1.txt\",\"r\")\n",
    "    f1.close()\n",
    "except FileNotFoundError:\n",
    "    print(\"Error, file not found!\")\n",
    "except IOError:\n",
    "    print(\"IOError occurred\")\n",
    "except NameError:\n",
    "    print(\"NameError occurred\")\n",
    "finally:\n",
    "    print(\"This block will always get execute\")\n"
   ]
  },
  {
   "cell_type": "code",
   "execution_count": 13,
   "metadata": {},
   "outputs": [
    {
     "name": "stdout",
     "output_type": "stream",
     "text": [
      "Input value is zero, try again !!\n"
     ]
    }
   ],
   "source": [
    "# user-defined exceptions\n",
    "\n",
    "class Error(Exception):\n",
    "    pass\n",
    "class DivideByZero(Error):\n",
    "    pass\n",
    "\n",
    "try:\n",
    "    num = int(input(\"Enter a number: \"))\n",
    "    if num == 0:\n",
    "        raise DivideByZero\n",
    "except DivideByZero:\n",
    "    print(\"Input value is zero, try again !!\")\n"
   ]
  },
  {
   "cell_type": "code",
   "execution_count": 14,
   "metadata": {},
   "outputs": [
    {
     "name": "stdout",
     "output_type": "stream",
     "text": [
      "can't divide by zero\n"
     ]
    }
   ],
   "source": [
    "a = int(input(\"Enter numerator: \"))\n",
    "b = int(input(\"Enter denominator: \"))\n",
    "\n",
    "try:\n",
    "    if b == 0:\n",
    "        # custom exception (but above one is better and more standard)\n",
    "        raise Exception(\"can't divide by zero\")\n",
    "except Exception as e:\n",
    "    print(e)\n",
    "else:\n",
    "    print(a/b)\n"
   ]
  },
  {
   "cell_type": "code",
   "execution_count": null,
   "metadata": {},
   "outputs": [],
   "source": []
  }
 ],
 "metadata": {
  "interpreter": {
   "hash": "40bf8eb891a54e34089fdca0d4bd01242912015f52133965af404fef137a91ce"
  },
  "kernelspec": {
   "display_name": "Python 3.8.8 64-bit ('base': conda)",
   "name": "python3"
  },
  "language_info": {
   "codemirror_mode": {
    "name": "ipython",
    "version": 3
   },
   "file_extension": ".py",
   "mimetype": "text/x-python",
   "name": "python",
   "nbconvert_exporter": "python",
   "pygments_lexer": "ipython3",
   "version": "3.8.8"
  },
  "orig_nbformat": 4
 },
 "nbformat": 4,
 "nbformat_minor": 2
}
