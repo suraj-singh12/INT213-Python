{
 "cells": [
  {
   "cell_type": "markdown",
   "source": [
    "----------------------\n",
    "\n",
    "Unit 3: Lists\n",
    "\n",
    "----------------------"
   ],
   "metadata": {}
  },
  {
   "cell_type": "code",
   "execution_count": null,
   "source": [
    "# list\n",
    "a = []\n",
    "b = [1,2,3]\n",
    "c = ['a','b','c']\n",
    "d = [1,2,'a','b',[7,8]]\n",
    "e = [4,5,6,[9,0]]\n",
    "print(e[0])\n",
    "print(e[3])\n",
    "print(e[3][0])\n",
    "\n",
    "for elem in d:\n",
    "    print(elem, end=\", \")\n",
    "print()\n",
    "i = 0\n",
    "while(i<len(e)):\n",
    "    print(e[i],end=\", \")\n",
    "    i += 1\n",
    "\n"
   ],
   "outputs": [],
   "metadata": {}
  },
  {
   "cell_type": "code",
   "execution_count": null,
   "source": [
    "# list operations: concatenation +  , repeatition *\n",
    "a = ['1','b',5,'9']\n",
    "print(a+a)\n",
    "print(a*3)"
   ],
   "outputs": [],
   "metadata": {}
  },
  {
   "cell_type": "code",
   "execution_count": null,
   "source": [
    "# list slicing\n",
    "a= [1,2,3,4,'a',2.0]\n",
    "print(a[:4])\n",
    "print(a[3:])\n",
    "\n",
    "print(a[:])\n",
    "print(a[::-1])  # reverse the list\n",
    "\n",
    "print(a[1:6:2])"
   ],
   "outputs": [],
   "metadata": {}
  },
  {
   "cell_type": "code",
   "execution_count": null,
   "source": [
    "# create a list and modify an element also display its length\n",
    "a = [1,2,3,4,'a','c',5.9]\n",
    "a[3] = 89\n",
    "print(a)\n",
    "print(len(a))"
   ],
   "outputs": [],
   "metadata": {}
  },
  {
   "cell_type": "code",
   "execution_count": null,
   "source": [
    "# list slicing and insertion\n",
    "l = [1,2]\n",
    "print(l)\n",
    "\n",
    "l.append(5)\n",
    "l.append('9')\n",
    "print(l)\n",
    "\n",
    "l[2:2]=[9,10]   # insertion (at index 2) (remaining elements will be shifted), will not delete any element\n",
    "print(l)\n",
    "\n",
    "l[0:3] = [] # elements at 0,1,2 will be deleted\n",
    "print(l)\n",
    "\n",
    "del l[1]        #element at index 1 will be deleted\n",
    "print(l)\n",
    "\n",
    "print(\"\\nList l2:\")\n",
    "l2 = [1,2,3,4,5]\n",
    "print(l2)\n",
    "del l2[1:4] # elements in range [1,4) will be deleted\n",
    "print(l2)"
   ],
   "outputs": [],
   "metadata": {}
  },
  {
   "cell_type": "code",
   "execution_count": null,
   "source": [
    "# create a list and append two elements in it\n",
    "l = [1,2]\n",
    "print(l)\n",
    "\n",
    "end = len(l)        # see for appending, we need to have end = len(l) not len(l) -1\n",
    "l[end:end] = [9,10]\n",
    "print(l)\n",
    "\n",
    "# using functions\n",
    "l = [1,2]\n",
    "print(l)\n",
    "l.append(9)\n",
    "l.append(10)\n",
    "print(l)"
   ],
   "outputs": [],
   "metadata": {}
  },
  {
   "cell_type": "code",
   "execution_count": null,
   "source": [
    "# create a list of numbers and print sum of all\n",
    "nums = [1,2,3,4,5,6,7,8,9,10]\n",
    "\n",
    "sum = 0\n",
    "for num in nums:\n",
    "    sum += num\n",
    "\n",
    "print(\"The sum is :\", sum)"
   ],
   "outputs": [],
   "metadata": {}
  },
  {
   "cell_type": "markdown",
   "source": [
    "-----------------------\n",
    "Adding some questions"
   ],
   "metadata": {}
  },
  {
   "cell_type": "code",
   "execution_count": null,
   "source": [
    "# program to compare elements of list\n",
    "l1 = [5,9,45.67]\n",
    "inp = [int(x) for x in input().split()]\n",
    "\n",
    "if len(inp) != 2:\n",
    "    print(\"Error! no of elements to compare not equal 2\")\n",
    "elif inp[0] not in l1 or inp[1] not in l1:\n",
    "    print(\"Error one or both of the element(s) does not exist in the list !!\")\n",
    "elif inp[0] > inp[1]:\n",
    "    print(inp[0], \"is greater !\")\n",
    "elif inp[1] > inp[0]:\n",
    "    print(inp[1], \"is greater\")\n",
    "else:\n",
    "    print(inp[0], \" = \", inp[1])"
   ],
   "outputs": [],
   "metadata": {}
  },
  {
   "cell_type": "code",
   "execution_count": null,
   "source": [
    "# program ot find minimum and maximum of a list\n",
    "l = [1,2,3,4,5,6]\n",
    "print(min(l))\n",
    "print(max(l))"
   ],
   "outputs": [],
   "metadata": {}
  },
  {
   "cell_type": "code",
   "execution_count": null,
   "source": [
    "# program to count the occurence of an element in the list\n",
    "l = ['a',5,'g',1,5,8,5.6,8,3,5,5]\n",
    "target = 5\n",
    "count = 0\n",
    "for elem in l:\n",
    "    if elem == target:\n",
    "        count = count + 1\n",
    "\n",
    "print(target, \"is present\", count, \"number of times.\")\n"
   ],
   "outputs": [],
   "metadata": {}
  },
  {
   "cell_type": "code",
   "execution_count": null,
   "source": [
    "# program to reverse a list\n",
    "l = [5,2,'1as','top', 54]\n",
    "revL = l[::-1]\n",
    "print(revL)\n",
    "\n",
    "for e in revL:\n",
    "    print(len(e))       # gives output fine for strings, but an int has no len() so error"
   ],
   "outputs": [],
   "metadata": {}
  },
  {
   "cell_type": "code",
   "execution_count": null,
   "source": [
    "# create a list and sort it\n",
    "\n",
    "l1 = [546,5476,2,34,67,78,-234,568,-45,6]\n",
    "l1.sort()\n",
    "print(l1)"
   ],
   "outputs": [],
   "metadata": {}
  },
  {
   "cell_type": "markdown",
   "source": [
    "---------------------------------------\n",
    "More Functions and operations on lists\n"
   ],
   "metadata": {}
  },
  {
   "cell_type": "code",
   "execution_count": null,
   "source": [
    "# id\n",
    "a = [1,2,3]\n",
    "b = [1,2,3]\n",
    "print(id(a))\n",
    "print(id(b))\n",
    "# here both will have different ids\n",
    "\n",
    "print()\n",
    "\n",
    "# but if we do aliasing\n",
    "a = [1,2,3]\n",
    "b = a\n",
    "print(id(a))\n",
    "print(id(b))\n",
    "\n",
    "# cloning (need to keep a copy, but also don't want it to change when original changes or copy changes)\n",
    "a = [1,2,3]\n",
    "b = a[0:]\n",
    "\n",
    "print(a)\n",
    "print(b)\n",
    "\n",
    "a[1] = 5\n",
    "b[2] = 10\n",
    "print(a)\n",
    "print(b)"
   ],
   "outputs": [],
   "metadata": {}
  },
  {
   "cell_type": "code",
   "execution_count": null,
   "source": [
    "# nested lists (i.e. list within a list)\n",
    "a = [\"hello\", 20.0,5,[1,3]]\n",
    "print(a)\n",
    "\n",
    "# matrix \n",
    "matrix = [[1,2,3],\n",
    "          [4,5,6],\n",
    "          [7,8,9]  \n",
    "         ]\n",
    "for row in matrix:\n",
    "    print(row)\n",
    "\n",
    "print(matrix[2][0]) # accessing single element from matrix\n",
    "\n"
   ],
   "outputs": [],
   "metadata": {}
  },
  {
   "cell_type": "code",
   "execution_count": null,
   "source": [
    "# split function\n",
    "song = \"Twinkle Twinkle Little Star\"\n",
    "songL = song.split()        # by default will split when space comes\n",
    "print(songL)\n",
    "\n",
    "songL2 = song.split('k')\n",
    "print(songL2)\n",
    "\n",
    "# join function\n",
    "songFull = ' '.join(songL)      # join with spaces\n",
    "songFullE = '-'.join(songL) # join with dash(-)\n",
    "print(songFull)\n",
    "print(songFullE)\n",
    "\n",
    "# and a lot of functions are there to practise buddy!! \n",
    "# explore as you need them\n",
    "'''\n",
    "l.sort()\n",
    "l.count(element)\n",
    "l.index(element)\n",
    "l.remove(element)\n",
    "l.append(element)\n",
    "sum(listName)\n",
    "# and many more\n",
    "'''"
   ],
   "outputs": [],
   "metadata": {}
  },
  {
   "cell_type": "code",
   "execution_count": null,
   "source": [],
   "outputs": [],
   "metadata": {}
  }
 ],
 "metadata": {
  "orig_nbformat": 4,
  "language_info": {
   "name": "python",
   "version": "3.8.8",
   "mimetype": "text/x-python",
   "codemirror_mode": {
    "name": "ipython",
    "version": 3
   },
   "pygments_lexer": "ipython3",
   "nbconvert_exporter": "python",
   "file_extension": ".py"
  },
  "kernelspec": {
   "name": "python3",
   "display_name": "Python 3.8.8 64-bit ('base': conda)"
  },
  "interpreter": {
   "hash": "455ab5cfbe64c0a2693a555ef07bea68f13a4fdf9ca442f254316cb18226f2df"
  }
 },
 "nbformat": 4,
 "nbformat_minor": 2
}