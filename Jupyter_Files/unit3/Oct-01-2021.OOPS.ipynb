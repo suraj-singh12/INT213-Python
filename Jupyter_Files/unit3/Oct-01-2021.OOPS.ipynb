{
 "cells": [
  {
   "cell_type": "markdown",
   "source": [
    "## In python the data members and functions/methods of a class are public by default"
   ],
   "metadata": {}
  },
  {
   "cell_type": "code",
   "execution_count": null,
   "source": [
    "# Write a program to find the area and perimeter of a circle using classes\n",
    "import math\n",
    "class circle:\n",
    "    # constructor\n",
    "    def __init__(self,radius):\n",
    "        # instance variable\n",
    "        self.radius  = radius\n",
    "\n",
    "    def area(self):  # public \n",
    "        return math.pi * self.radius * self.radius;\n",
    "    def perimenter(self):   # public\n",
    "        return 2 * math.pi * self.radius\n",
    "\n",
    "c = circle(5)       # c is the object of class circle\n",
    "d = circle(7)       # and so is d\n",
    "\n",
    "print(\"Area of c: \", c.area())\n",
    "print(\"Area of d: \", d.area())\n",
    "\n",
    "print(\"Perimeter of c: \", c.perimenter())\n",
    "print(\"Perimeter of d: \", d.perimenter())\n",
    "\n",
    "\n",
    "print()\n",
    "# some inbuilt functions in classes\n",
    "print(hasattr(c,\"radius\"))  # will check if object 'c' has an attribute named radius and return true if it has, else false\n",
    "print(getattr(c,\"radius\"))  # will print the value of the attribute radius of c object\n",
    "print(setattr(c,\"radius\",9))    # will set the value of the c.radius as 9\n",
    "print(c.radius)\n",
    "print(delattr(c,\"radius\"))  # will delete the radius attribute of the object c\n",
    "print(hasattr(c,\"radius\"))\n",
    "\n",
    "print()\n",
    "# some inbuilt attributes\n",
    "print(\"circle.__doc__\",circle.__doc__)      # class documentation string or none, if undefined\n",
    "print(\"circle.__name__\",circle.__name__)      # name of class \n",
    "print(\"circle.__module__\",circle.__module__)    # module name in which the class is defined. This attribute is __main__ in interactive mode\n",
    "print(\"circle.__bases__\",circle.__bases__)  # a possibly empty tuple containing the base classes, in the order of their occurence in the base class list\n",
    "print(\"circle.__dict__\",circle.__dict__)    # dictionary containing the class's namespace "
   ],
   "outputs": [],
   "metadata": {}
  },
  {
   "cell_type": "markdown",
   "source": [
    "## Access Specifiers:\n",
    "-----------------------\n",
    "\n",
    "### 1. Public: data members, and methods/functions that are public can be accessed outside the class\n",
    "\n",
    "### 2. Private: data member and member functions declared private can't be accessed by anyone outside the class and can't be inherited by any class\n",
    "\n",
    "### 3. Protected: data members and member functions declared protected can't be accessed by anyone outside the class but can be inherited by derived class(es)"
   ],
   "metadata": {}
  },
  {
   "cell_type": "code",
   "execution_count": null,
   "source": [
    "# private data members can be accessed inside the class\n",
    "\n",
    "class student:\n",
    "    # private class variables\n",
    "    # __name = None\n",
    "    # __roll = None\n",
    "    # __branch = None\n",
    "\n",
    "    # constructor\n",
    "    def __init__(self, name, roll, branch):\n",
    "        # private instance variables\n",
    "        self.__name = name\n",
    "        self.__roll = roll\n",
    "        self.__branch = branch\n",
    "    \n",
    "    # private member function\n",
    "    def __display(self):\n",
    "        print(\"Name: \", self.__name)\n",
    "        print(\"Roll no: \", self.__roll)\n",
    "        print(\"Branch: \", self.__branch)\n",
    "    \n",
    "    # public member function\n",
    "    def fun(self):\n",
    "        # accessing private member function\n",
    "        self.__display()\n",
    "    \n",
    "student1 = student(\"Poweruser\",21,\"CSE\")\n",
    "student1.fun()\n",
    "print(hasattr(student1,\"__name\"))\n",
    "print(hasattr(student1,\"__branch\"))\n",
    "print(hasattr(student1,\"fun\"))\n",
    "\n"
   ],
   "outputs": [],
   "metadata": {}
  },
  {
   "cell_type": "code",
   "execution_count": null,
   "source": [
    "class Employee:\n",
    "    'common base class for all employees'       # this is documentation\n",
    "    # class variable\n",
    "    count = 0\n",
    "\n",
    "    def __init__(self, name, salary):\n",
    "        self.name = name\n",
    "        self.salary = salary\n",
    "        Employee.count += 1\n",
    "    \n",
    "    def display_count(self):\n",
    "        print(\"Total employee ids: {}\".format(Employee.count))\n",
    "    \n",
    "    def display_employee(self):\n",
    "        print(\"Name {} \\t salary {}\".format(self.name,self.salary))\n",
    "    \n",
    "e = Employee(\"Michael\",99100)\n",
    "d = Employee(\"Floyd\",98200)\n",
    "e.display_count()\n",
    "e.display_employee()\n",
    "d.display_employee()\n",
    "\n",
    "print()\n",
    "# some inbuilt attributes\n",
    "print(\"Employee.__doc__\",Employee.__doc__)          # class documentation string or none, if undefined\n",
    "print(\"Employee.__name__\",Employee.__name__)         # name of class \n",
    "print(\"Employee.__module__\",Employee.__module__)     # module name in which the class is defined. This attribute is __main__ in interactive mode\n",
    "print(\"Employee.__bases__\",Employee.__bases__)      # a possibly empty tuple containing the base classes, in the order of their occurence in the base class list\n",
    "print(\"Employee.__dict__\",Employee.__dict__)        # dictionary containing the class's namespace "
   ],
   "outputs": [],
   "metadata": {}
  },
  {
   "cell_type": "markdown",
   "source": [
    "--------------\n",
    "\n",
    "## Destructor\n",
    "--------------"
   ],
   "metadata": {}
  },
  {
   "cell_type": "code",
   "execution_count": null,
   "source": [
    "# Destructor\n",
    "\n",
    "class Point:\n",
    "    def __init__(self, x=0, y=0):\n",
    "        self.x = x\n",
    "        self.y = y\n",
    "    \n",
    "    # destructor\n",
    "    # automatically invoked when a variable goes out of scope\n",
    "    def __del__(self):\n",
    "        class_name = self.__class__.__name__\n",
    "        print(class_name, \"destroyed\")\n",
    "\n",
    "pt1 = Point()\n",
    "pt2 = pt1       # pt2 is an alias of pt1\n",
    "pt3 = pt1       # pt3 is an alias of pt1\n",
    "\n",
    "# see the ids tell that pt2, pt3 are alias of pt1\n",
    "print(id(pt1))\n",
    "print(id(pt2))\n",
    "print(id(pt3))\n",
    "# NOTE: Python also has a garbage collection tool just like java\n",
    "# when no variable points to a data, that data is removed by garbage collector and memory freed\n",
    "\n",
    "del pt1\n",
    "del pt2\n",
    "del pt3\n",
    "# see only when all three of the variables (pt1, pt2, pt3) are deleted \n",
    "# only then the memory and other resources are freed by the destructor (object destroyed)\n",
    " # (note:           number = 5        \n",
    "            # here `number` is `reference variable`\n",
    "            # and `5` is the `object` (consuming memory and other resources)\n",
    "            # reference variable just points to the object in memory\n",
    "            # when no reference variable is pointing towards the object, it is garbage collected and resources are freed alongwith memory\n",
    "            \n",
    "            # in python, garbage collector does the job, so here destructor is not needed as much as it is in C/C++ \n",
    "            # and neither are they as powerful\n"
   ],
   "outputs": [],
   "metadata": {}
  },
  {
   "cell_type": "markdown",
   "source": [
    "----------------\n",
    "\n",
    "## Inheritance\n",
    "----------------"
   ],
   "metadata": {}
  },
  {
   "cell_type": "markdown",
   "source": [
    "## Single level inheritance\n",
    "\n",
    "1. When a class is inherited from one base class only\n",
    "--------------------------"
   ],
   "metadata": {}
  },
  {
   "cell_type": "code",
   "execution_count": null,
   "source": [
    "# Inheritance \n",
    "# base class-parent class\n",
    "# child class-derived class\n",
    "\n",
    "# base class\n",
    "class Person:\n",
    "    def __init__(self, name, id):\n",
    "        self.name = name\n",
    "        self.id = id\n",
    "    def display(self):\n",
    "        print(self.name)\n",
    "        print(self.id)\n",
    "\n",
    "# child / derived class\n",
    "class Employee(Person):\n",
    "    def __init__(self, name, id, post):\n",
    "        # invoking the constructor of Parent class of Employee (Person class) \n",
    "        Person.__init__(self, name, id)\n",
    "\n",
    "# object / instance\n",
    "obj = Employee(\"Michael\", 123, \"Software Developer\")\n",
    "obj.display()\n"
   ],
   "outputs": [],
   "metadata": {}
  },
  {
   "cell_type": "code",
   "execution_count": null,
   "source": [
    "\n",
    "class Person:\n",
    "    def __init__(self, firstname, lastname):\n",
    "        self.firstname = firstname\n",
    "        self.lastname = lastname\n",
    "    \n",
    "    def fullname(self):\n",
    "        print(self.firstname + \" \" + self.lastname)\n",
    "\n",
    "\n",
    "class Emp(Person):      # inheriting Person class\n",
    "    def __init__(self, firstname, lastname, id):\n",
    "        Person.__init__(self, firstname, lastname)\n",
    "        Emp.id = id\n",
    "    def display(self):\n",
    "        self.fullname()\n",
    "        print(self.id)\n",
    "\n",
    "E1 = Emp(\"Michael\",\"Faraday\", 15)\n",
    "E1.display()\n"
   ],
   "outputs": [],
   "metadata": {}
  },
  {
   "cell_type": "markdown",
   "source": [
    "## Multiple level inheritance \n",
    "\n",
    "1. (when a class is derived from more than one base class)\n",
    "---------"
   ],
   "metadata": {}
  },
  {
   "cell_type": "code",
   "execution_count": null,
   "source": [
    "\n",
    "class base1:\n",
    "    def __init__(self):\n",
    "        self.str1 = \"hello\"\n",
    "        print(\"base1\")\n",
    "\n",
    "class base2:\n",
    "    def __init__(self):\n",
    "        self.str2 = \"world\"\n",
    "        print(\"base2\")\n",
    "\n",
    "class derived(base1, base2):\n",
    "    def __init__(self):\n",
    "        base1.__init__(self)\n",
    "        base2.__init__(self)\n",
    "        print(\"derived\")\n",
    "    \n",
    "    def printstring(self):\n",
    "        print(self.str1, self.str2)\n",
    "\n",
    "d = derived()\n",
    "d.printstring()\n"
   ],
   "outputs": [],
   "metadata": {}
  },
  {
   "cell_type": "markdown",
   "source": [
    "## Multi-level Inheritance (grandfather-father-child)\n",
    "\n",
    "1. When 1 class derives from another which itself derives from another class"
   ],
   "metadata": {}
  },
  {
   "cell_type": "code",
   "execution_count": 53,
   "source": [
    "# mutli-level-inheritance\n",
    "\n",
    "# base class\n",
    "class Human:\n",
    "    def __init__(self):\n",
    "        self.identity = \"Homosapien\"\n",
    "\n",
    "# derived from Human class\n",
    "class Boy(Human):\n",
    "    def __init__(self, name):\n",
    "        Human.__init__(self)\n",
    "        self.gender = \"M\"\n",
    "        self.name = name\n",
    "\n",
    "# derived from Boy class which itself is derived from Human class \n",
    "class Student(Boy):\n",
    "    def __init__(self, name):\n",
    "        Boy.__init__(self, name)\n",
    "        self.sid = 1224\n",
    "    def traits(self):\n",
    "        return self.identity + \"\\n\" + self.gender + \"\\n\" + self.name + \"\\n\" + str(self.sid)\n",
    "\n",
    "\n",
    "student1 = Student(\"Aditya\")\n",
    "print(student1.traits())"
   ],
   "outputs": [
    {
     "output_type": "stream",
     "name": "stdout",
     "text": [
      "homosapien\n",
      "M\n",
      "Aditya\n",
      "1224\n"
     ]
    }
   ],
   "metadata": {}
  },
  {
   "cell_type": "code",
   "execution_count": null,
   "source": [],
   "outputs": [],
   "metadata": {}
  }
 ],
 "metadata": {
  "orig_nbformat": 4,
  "language_info": {
   "name": "python",
   "version": "3.8.8",
   "mimetype": "text/x-python",
   "codemirror_mode": {
    "name": "ipython",
    "version": 3
   },
   "pygments_lexer": "ipython3",
   "nbconvert_exporter": "python",
   "file_extension": ".py"
  },
  "kernelspec": {
   "name": "python3",
   "display_name": "Python 3.8.8 64-bit ('base': conda)"
  },
  "interpreter": {
   "hash": "455ab5cfbe64c0a2693a555ef07bea68f13a4fdf9ca442f254316cb18226f2df"
  }
 },
 "nbformat": 4,
 "nbformat_minor": 2
}