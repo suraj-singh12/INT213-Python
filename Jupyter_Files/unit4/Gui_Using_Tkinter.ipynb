{
 "cells": [
  {
   "cell_type": "code",
   "execution_count": 56,
   "metadata": {},
   "outputs": [],
   "source": [
    "from tkinter import *\n",
    "\n",
    "root = Tk()\n",
    "\n",
    "# UI window dimensions\n",
    "root.geometry(\"350x350\")\n",
    "# minimum size allowed\n",
    "root.minsize(250, 250)\n",
    "# maximum size allowed\n",
    "root.maxsize(450,450) \n",
    "\n",
    "# widget on screen \n",
    "l = Label(root,text=\"hello world\")  # this one placed on root element\n",
    "# geometry: place(), pack(), and grid() ; methods to show this label\n",
    "l.pack()\n",
    "\n",
    "\n",
    "\n",
    "# show window\n",
    "root.mainloop()\n"
   ]
  },
  {
   "cell_type": "code",
   "execution_count": null,
   "metadata": {},
   "outputs": [],
   "source": [
    "# attributes of label and pack method\n",
    "from tkinter import *\n",
    "\n",
    "root = Tk()\n",
    "\n",
    "# UI window dimensions\n",
    "root.geometry(\"350x350\")\n",
    "# minimum size allowed\n",
    "root.minsize(150, 150)\n",
    "# maximum size allowed\n",
    "root.maxsize(650,650) \n",
    "\n",
    "# widget on screen \n",
    "l = Label(root,text=\"hello world\", bg=\"lightgreen\", fg=\"blue\",\n",
    "relief=GROOVE, borderwidth=6, font=(\"Courier New\",20,\"bold\"),\n",
    "padx=30, pady=30)  # this one placed on root element\n",
    "# relief : FLAT, RAISED, SUNKEN, GROOVE, RIDGE\n",
    "# padx: padding in x direction, pady: padding in y direction\n",
    "\n",
    "# geometry: place(), pack(), and grid() ; methods to show this label\n",
    "\n",
    "# attribute of pack() method: side, anchor, fill\n",
    "l.pack(side=\"top\", anchor=\"sw\", fill=\"x\")\n",
    "# side : top, left, right, bottom   [by default it is top]\n",
    "# fill : x or y \n",
    "# anchor : direction: east west north south or combinations\n",
    "\n",
    "\n",
    "# show window\n",
    "root.mainloop()\n"
   ]
  },
  {
   "cell_type": "code",
   "execution_count": null,
   "metadata": {},
   "outputs": [],
   "source": [
    "# Frames\n",
    "\n",
    "from tkinter import *\n",
    "\n",
    "root = Tk()\n",
    "# UI window dimensions\n",
    "root.geometry(\"350x350\")\n",
    "\n",
    "f1 = Frame(root, bg=\"orange\", borderwidth=6, relief=SUNKEN)\n",
    "f1.pack(side=\"top\",fill='x')\n",
    "\n",
    "f2 = Frame(root, bg=\"blue\", borderwidth=6, relief=RIDGE)\n",
    "f2.pack(side=\"top\",fill='x')\n",
    "\n",
    "l = Label(f1,text=\"Tkinter class\",font=(\"Courier New\",20,\"bold\"))\n",
    "l.pack()\n",
    "\n",
    "l2 = Label(f2, text=\"This is section K20SD\",font=(\"Courier New\",20,\"bold\"))\n",
    "l2.pack()\n",
    "\n",
    "# show window\n",
    "root.mainloop()\n"
   ]
  },
  {
   "cell_type": "code",
   "execution_count": null,
   "metadata": {},
   "outputs": [],
   "source": [
    "# geometry method (place())\n",
    "from tkinter import *\n",
    "\n",
    "root = Tk()\n",
    "l = Label(root, text=\"K20SD section\")\n",
    "l.place(x=10,y=10)\n",
    "\n",
    "m=Label(root,text=\"Python section\")\n",
    "m.place(x=30,y=30)\n",
    "\n",
    "root.mainloop()"
   ]
  }
 ],
 "metadata": {
  "interpreter": {
   "hash": "4abef517ba9674bba0a711b24b436908f083d341dd15bba4a601c7fa9a36111c"
  },
  "kernelspec": {
   "display_name": "Python 3.8.8 64-bit ('base': conda)",
   "name": "python3"
  },
  "language_info": {
   "codemirror_mode": {
    "name": "ipython",
    "version": 3
   },
   "file_extension": ".py",
   "mimetype": "text/x-python",
   "name": "python",
   "nbconvert_exporter": "python",
   "pygments_lexer": "ipython3",
   "version": "3.8.8"
  },
  "orig_nbformat": 4
 },
 "nbformat": 4,
 "nbformat_minor": 2
}
