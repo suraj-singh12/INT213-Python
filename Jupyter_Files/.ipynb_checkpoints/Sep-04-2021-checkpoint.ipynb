{
 "cells": [
  {
   "cell_type": "code",
   "execution_count": 2,
   "id": "53e9176b",
   "metadata": {},
   "outputs": [
    {
     "name": "stdout",
     "output_type": "stream",
     "text": [
      "Enter a character: a\n",
      "Vowel\n"
     ]
    }
   ],
   "source": [
    "# check if the entered char is a vowel or not\n",
    "\n",
    "vowel = \"aeiouAEIOU\"\n",
    "ch = input(\"Enter a character: \")\n",
    "if ch in vowel:\n",
    "    print(\"Vowel\")\n",
    "else:\n",
    "    print(\"Consonant\")"
   ]
  },
  {
   "cell_type": "code",
   "execution_count": 3,
   "id": "168559bc",
   "metadata": {},
   "outputs": [
    {
     "name": "stdout",
     "output_type": "stream",
     "text": [
      "Enter the number: 34\n",
      "Not divisible by both 2 and 3\n"
     ]
    }
   ],
   "source": [
    "# check if the nubmer entered is divisible by 2 and 3 both\n",
    "\n",
    "number = int(input(\"Enter the number: \"))\n",
    "if number % 2 == 0 and number %3 == 0:\n",
    "    print(\"Divisible by 2 and 3 both\")\n",
    "else:\n",
    "    print(\"Not divisible by both 2 and 3\")"
   ]
  },
  {
   "cell_type": "code",
   "execution_count": 4,
   "id": "b1e4d227",
   "metadata": {},
   "outputs": [
    {
     "name": "stdout",
     "output_type": "stream",
     "text": [
      "Person1 Enter age: 2\n",
      "Person2 Enter age: 4\n",
      "Person3 Enter age: 3\n",
      "Person4 Enter age: 1\n",
      "Person 2 is oldest\n"
     ]
    }
   ],
   "source": [
    "# find the oldest person of 4 \n",
    "p1 = int(input(\"Person1 Enter age: \"))\n",
    "p2 = int(input(\"Person2 Enter age: \"))\n",
    "p3 = int(input(\"Person3 Enter age: \"))\n",
    "p4 = int(input(\"Person4 Enter age: \"))\n",
    "if p1 > p2 and p1 > p3 and p1 > p4:\n",
    "    print(\"Person 1 is oldest\")\n",
    "elif p2 > p1 and p2 > p3 and p2 > p4:\n",
    "    print(\"Person 2 is oldest\")\n",
    "elif p3 > p1 and p3 > p2 and p3 > p4:\n",
    "    print(\"Person 3 is oldest\")\n",
    "else:\n",
    "    print(\"Person 4 is oldest\")\n"
   ]
  },
  {
   "cell_type": "code",
   "execution_count": 6,
   "id": "4d6d7b63",
   "metadata": {},
   "outputs": [
    {
     "name": "stdout",
     "output_type": "stream",
     "text": [
      "Enter your percentage: 99\n",
      "A+\n"
     ]
    }
   ],
   "source": [
    "# accept percentage from user, and display its grade \n",
    "percentage = int(input(\"Enter your percentage: \"))\n",
    "\n",
    "if percentage > 80:\n",
    "    print(\"A+\")\n",
    "elif percentage > 60:\n",
    "    print(\"A\")\n",
    "elif percentage > 50:\n",
    "    print(\"B+\")\n",
    "elif percentage > 45:\n",
    "    print(\"B\")\n",
    "elif percentage > 25:\n",
    "    print(\"C\")\n",
    "else:\n",
    "    print(\"D\")\n",
    "    "
   ]
  },
  {
   "cell_type": "code",
   "execution_count": null,
   "id": "0c8209f4",
   "metadata": {},
   "outputs": [],
   "source": []
  }
 ],
 "metadata": {
  "kernelspec": {
   "display_name": "Python 3",
   "language": "python",
   "name": "python3"
  },
  "language_info": {
   "codemirror_mode": {
    "name": "ipython",
    "version": 3
   },
   "file_extension": ".py",
   "mimetype": "text/x-python",
   "name": "python",
   "nbconvert_exporter": "python",
   "pygments_lexer": "ipython3",
   "version": "3.8.8"
  }
 },
 "nbformat": 4,
 "nbformat_minor": 5
}
