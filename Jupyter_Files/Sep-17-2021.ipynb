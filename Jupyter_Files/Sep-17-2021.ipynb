{
 "cells": [
  {
   "cell_type": "code",
   "execution_count": 3,
   "source": [
    "# factorial\n",
    "\n",
    "def factorial(n):\n",
    "    if n <= 1:\n",
    "        return 1\n",
    "    return n * factorial(n-1)\n",
    "number = int(input(\"Enter number: \"))   \n",
    "fact = factorial(number)\n",
    "print(\"Factorial of\", number , \"is:\", fact)"
   ],
   "outputs": [
    {
     "output_type": "stream",
     "name": "stdout",
     "text": [
      "Factorial of 0 is: 1\n"
     ]
    }
   ],
   "metadata": {}
  },
  {
   "cell_type": "code",
   "execution_count": 19,
   "source": [
    "#fibonacci series: 0 1 1 2 3 5 8 13\n",
    "\n",
    "def fibonacci(terms,first,second,next=1):\n",
    "    if terms > 2:\n",
    "        next = first + second\n",
    "        first = second\n",
    "        second = next\n",
    "        return fibonacci(terms-1,first, second,next)\n",
    "    else:\n",
    "        return next\n",
    "\n",
    "numberOfTerms = int(input(\"Enter no of terms(>2): \"))\n",
    "print(fibonacci(numberOfTerms,0,1))\n"
   ],
   "outputs": [
    {
     "output_type": "stream",
     "name": "stdout",
     "text": [
      "13\n"
     ]
    }
   ],
   "metadata": {}
  },
  {
   "cell_type": "markdown",
   "source": [
    "===========\n",
    "\n",
    "UNIT 2 : Strings\n",
    "\n",
    "=========="
   ],
   "metadata": {}
  },
  {
   "cell_type": "code",
   "execution_count": 21,
   "source": [
    "s = \"apple\"\n",
    "\n",
    "print(s[0])\n",
    "print(s[len(s)-1])\n",
    "print(s[-1])\n",
    "\n",
    "for elem in s:\n",
    "    print(elem, end=\" \")\n",
    "\n",
    "print()\n",
    "\n",
    "i = 0 \n",
    "while i<len(s):\n",
    "    print(s[i],end=\" \")\n",
    "    i += 1\n",
    "\n",
    "print()\n",
    "\n",
    "for i in range(len(s)):\n",
    "    print(s[i],end=\" \")\n",
    "\n",
    "print()"
   ],
   "outputs": [
    {
     "output_type": "stream",
     "name": "stdout",
     "text": [
      "a\n",
      "e\n",
      "e\n",
      "a p p l e \n",
      "a p p l e \n",
      "a p p l e \n"
     ]
    }
   ],
   "metadata": {}
  },
  {
   "cell_type": "code",
   "execution_count": null,
   "source": [],
   "outputs": [],
   "metadata": {}
  }
 ],
 "metadata": {
  "orig_nbformat": 4,
  "language_info": {
   "name": "python",
   "version": "3.8.8",
   "mimetype": "text/x-python",
   "codemirror_mode": {
    "name": "ipython",
    "version": 3
   },
   "pygments_lexer": "ipython3",
   "nbconvert_exporter": "python",
   "file_extension": ".py"
  },
  "kernelspec": {
   "name": "python3",
   "display_name": "Python 3.8.8 64-bit ('base': conda)"
  },
  "interpreter": {
   "hash": "455ab5cfbe64c0a2693a555ef07bea68f13a4fdf9ca442f254316cb18226f2df"
  }
 },
 "nbformat": 4,
 "nbformat_minor": 2
}