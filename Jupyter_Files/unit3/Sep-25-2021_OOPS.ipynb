{
 "cells": [
  {
   "cell_type": "markdown",
   "source": [
    "---------------------------\n",
    "# OOPS\n",
    "\n",
    "--------------------------\n",
    "## : : class: is a blueprint or a template\n",
    "## : : object: is an instance of the class\n",
    "\n",
    "### > objects have data and behavior \n",
    "\n",
    "### > behavior is specified by the class\n",
    "\n",
    "### > data is unique to the object\n",
    "\n",
    "> behavior / methods / functions are same thing\n",
    "\n",
    "> data / attributes are same thing\n",
    "--------------------------"
   ],
   "metadata": {}
  },
  {
   "cell_type": "code",
   "execution_count": 5,
   "source": [
    "# class and objects\n",
    "class Dog:\n",
    "    # class attribute\n",
    "    att1 = \"mammal\"\n",
    "    # method\n",
    "    def fun(self):                          # self is like 'this' pointer in c++; it refers to the variable calling the function (it is important to include self in all functions)\n",
    "        print(\"There is a\", self.att1)                                                          # even if the function does not takes any argument, self is to be there in signature\n",
    "\n",
    "# object instantiation\n",
    "Rodger = Dog()       # Roger is an object of dog class\n",
    "\n",
    "# access class attributes and methods (using . operator)\n",
    "print(Rodger.att1)\n",
    "Rodger.fun()      \n"
   ],
   "outputs": [
    {
     "output_type": "stream",
     "name": "stdout",
     "text": [
      "mammal\n",
      "There is a mammal\n"
     ]
    }
   ],
   "metadata": {}
  },
  {
   "cell_type": "code",
   "execution_count": 7,
   "source": [
    "# __init__() function\n",
    "\n",
    "class Dog:\n",
    "    # class attribute / variable\n",
    "    animal = \"dog\"\n",
    "    \n",
    "    # constructor\n",
    "    def __init__(self, breed, color):\n",
    "        # object variables\n",
    "        self.breed = breed\n",
    "        self.color = color\n",
    "\n",
    "# objects of dog class\n",
    "Rodger = Dog(\"German Shepherd\", \"Reddish-Brown\")\n",
    "Buzo = Dog(\"Bulldog\",\"Black\")\n",
    "\n",
    "print(\"Rodger Details: \")\n",
    "print(\"Rodger is :\", Rodger.animal)\n",
    "print(\"Rodger's breed is : \", Rodger.breed)\n",
    "print(\"Rodger's color is : \", Rodger.color)\n",
    "\n"
   ],
   "outputs": [
    {
     "output_type": "stream",
     "name": "stdout",
     "text": [
      "Rodger Details: \n",
      "Rodger is : dog\n",
      "Rodger's breed is :  German Shepherd\n",
      "Rodger's color is :  Reddish-Brown\n"
     ]
    }
   ],
   "metadata": {}
  },
  {
   "cell_type": "code",
   "execution_count": 8,
   "source": [
    "\n",
    "class Employee:\n",
    "    def __init__(self):\n",
    "        # object variables / object attributes\n",
    "        self.name = \"abc\"\n",
    "        self.salary = 10\n",
    "    \n",
    "    def displayEmployee(self):\n",
    "        print(\"Name; \", self.name, \"Salary: \", self.salary)\n",
    "    \n",
    "emp1 = Employee()\n",
    "emp1.displayEmployee()\n",
    "print(emp1.name)\n"
   ],
   "outputs": [
    {
     "output_type": "stream",
     "name": "stdout",
     "text": [
      "Name;  abc Salary:  10\n",
      "abc\n"
     ]
    }
   ],
   "metadata": {}
  },
  {
   "cell_type": "code",
   "execution_count": null,
   "source": [],
   "outputs": [],
   "metadata": {}
  }
 ],
 "metadata": {
  "orig_nbformat": 4,
  "language_info": {
   "name": "python",
   "version": "3.8.8",
   "mimetype": "text/x-python",
   "codemirror_mode": {
    "name": "ipython",
    "version": 3
   },
   "pygments_lexer": "ipython3",
   "nbconvert_exporter": "python",
   "file_extension": ".py"
  },
  "kernelspec": {
   "name": "python3",
   "display_name": "Python 3.8.8 64-bit ('base': conda)"
  },
  "interpreter": {
   "hash": "455ab5cfbe64c0a2693a555ef07bea68f13a4fdf9ca442f254316cb18226f2df"
  }
 },
 "nbformat": 4,
 "nbformat_minor": 2
}