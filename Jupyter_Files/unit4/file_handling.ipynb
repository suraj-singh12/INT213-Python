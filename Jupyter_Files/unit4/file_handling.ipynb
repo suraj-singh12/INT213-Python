{
 "cells": [
  {
   "cell_type": "markdown",
   "metadata": {},
   "source": [
    "# File Handling"
   ]
  },
  {
   "cell_type": "code",
   "execution_count": null,
   "metadata": {},
   "outputs": [],
   "source": [
    "# creating a text file\n",
    "f = open(\"1.txt\",\"w\")\n",
    "print(f)\n",
    "f.close()"
   ]
  },
  {
   "cell_type": "code",
   "execution_count": null,
   "metadata": {},
   "outputs": [],
   "source": [
    "# creating and writing content to a text file\n",
    "f = open(\"1.txt\", \"w\")\n",
    "f.write(\"This is file f\")\n",
    "f.close()"
   ]
  },
  {
   "cell_type": "code",
   "execution_count": null,
   "metadata": {},
   "outputs": [],
   "source": [
    "# reading a text file\n",
    "f = open(\"1.txt\",\"r\")\n",
    "text = f.read()\n",
    "print(text)\n",
    "f.close()"
   ]
  },
  {
   "cell_type": "code",
   "execution_count": null,
   "metadata": {},
   "outputs": [],
   "source": [
    "# reading a text file content to n bits\n",
    "f = open(\"1.txt\", \"r\")\n",
    "text = f.read(5)\n",
    "print(text)\n",
    "f.close()"
   ]
  },
  {
   "cell_type": "code",
   "execution_count": null,
   "metadata": {},
   "outputs": [],
   "source": [
    "# appending data to a text file\n",
    "f = open(\"1.txt\",\"a\")\n",
    "f.write(\"New data added man!\")\n",
    "f.close()\n",
    "\n",
    "# now reading again\n",
    "f = open(\"1.txt\",\"r\")\n",
    "data = f.read()\n",
    "print(data)"
   ]
  },
  {
   "cell_type": "code",
   "execution_count": 2,
   "metadata": {},
   "outputs": [],
   "source": [
    "# creating a copy of a file\n",
    "\n",
    "old = \"1.txt\"\n",
    "new = \"2.txt\"\n",
    "\n",
    "def copyfile(old,new):\n",
    "    f1 = open(old,\"r\")\n",
    "    f2 = open(new, \"w\")\n",
    "    while True:\n",
    "        text = f1.readline()\n",
    "        if text == '':\n",
    "            break\n",
    "        f2.write(text)\n",
    "    f1.close()\n",
    "    f2.close()\n",
    "\n",
    "copyfile(old,new)"
   ]
  },
  {
   "cell_type": "code",
   "execution_count": null,
   "metadata": {},
   "outputs": [],
   "source": [
    "\n",
    "f1 = open(\"1.txt\",\"r\")\n",
    "f2 = open(\"2.txt\",\"r\")\n",
    "\n",
    "data = f1.read()\n",
    "if data[0] == '#':\n",
    "    f2.write(data[1:])\n",
    "else:\n",
    "    f2.write(data)\n",
    "\n",
    "f1.close()\n",
    "f2.close()"
   ]
  },
  {
   "cell_type": "code",
   "execution_count": 3,
   "metadata": {},
   "outputs": [],
   "source": [
    "\n",
    "f = open(\"1.txt\",\"w\")\n",
    "f.write(\"Line one\\nLine two\\nLine three\\nLine four\")\n",
    "f.close()\n",
    "\n"
   ]
  },
  {
   "cell_type": "code",
   "execution_count": 4,
   "metadata": {},
   "outputs": [
    {
     "name": "stdout",
     "output_type": "stream",
     "text": [
      "Line one\n",
      "\n"
     ]
    }
   ],
   "source": [
    "# read a single line\n",
    "\n",
    "f = open(\"1.txt\",\"r\")\n",
    "text = f.readline()\n",
    "print(text)\n"
   ]
  },
  {
   "cell_type": "code",
   "execution_count": 5,
   "metadata": {},
   "outputs": [
    {
     "name": "stdout",
     "output_type": "stream",
     "text": [
      "['Line one\\n', 'Line two\\n', 'Line three\\n', 'Line four']\n"
     ]
    }
   ],
   "source": [
    "# read lines and return a list of them\n",
    "f = open(\"1.txt\",\"r\")\n",
    "text = f.readlines()\n",
    "print(text)\n"
   ]
  },
  {
   "cell_type": "code",
   "execution_count": 6,
   "metadata": {},
   "outputs": [
    {
     "name": "stdout",
     "output_type": "stream",
     "text": [
      "b'Line one\\nLine two\\nLine three\\nLine four'\n"
     ]
    }
   ],
   "source": [
    "# read a file as a binary file\n",
    "f = open(\"1.txt\",\"rb\")\n",
    "text = f.read()\n",
    "print(text)\n",
    "f.close()\n"
   ]
  },
  {
   "cell_type": "code",
   "execution_count": null,
   "metadata": {},
   "outputs": [],
   "source": [
    "# write variables in a file\n",
    "f = open(\"3.txt\",\"w\")\n",
    "x = 52\n",
    "f.write(str(x))\n",
    "f.close()"
   ]
  },
  {
   "cell_type": "code",
   "execution_count": 14,
   "metadata": {},
   "outputs": [
    {
     "name": "stdout",
     "output_type": "stream",
     "text": [
      "52\n",
      "In 6 days we made 25523.340000 dollars\n",
      "          12\n",
      "234.23\n",
      "    34.444\n"
     ]
    }
   ],
   "source": [
    "# format specifiers\n",
    "cars = 52\n",
    "print(\"%d\"%cars)\n",
    "\n",
    "print(\"In %d days we made %f %s\"%(6,25523.34,\"dollars\"))\n",
    "\n",
    "print(\"%12d\"%12)\n",
    "\n",
    "print(\"%.2f\"%234.23423)\n",
    "\n",
    "print(\"%10.3f\"%34.4436)\n"
   ]
  },
  {
   "cell_type": "code",
   "execution_count": 19,
   "metadata": {},
   "outputs": [
    {
     "name": "stdout",
     "output_type": "stream",
     "text": [
      "Writing a little bit of data in file.\n"
     ]
    }
   ],
   "source": [
    "f = open(\"/home/suraj/Documents/file.txt\",\"w\")\n",
    "f.write(\"Writing a little bit of data in file.\")\n",
    "f.close()\n",
    "\n",
    "f = open(\"/home/suraj/Documents/file.txt\",\"r\")\n",
    "data = f.read()\n",
    "print(data)"
   ]
  },
  {
   "cell_type": "markdown",
   "metadata": {},
   "source": [
    "# pickle\n",
    "\n",
    "## basically used for sealisation purpose\n",
    "## converting a data type to byte streams\n",
    "\n",
    "\n",
    "## then converting these byte streams back to data structures\n",
    "## is called unpickling"
   ]
  },
  {
   "cell_type": "code",
   "execution_count": null,
   "metadata": {},
   "outputs": [],
   "source": []
  }
 ],
 "metadata": {
  "interpreter": {
   "hash": "4abef517ba9674bba0a711b24b436908f083d341dd15bba4a601c7fa9a36111c"
  },
  "kernelspec": {
   "display_name": "Python 3.8.8 64-bit ('base': conda)",
   "name": "python3"
  },
  "language_info": {
   "codemirror_mode": {
    "name": "ipython",
    "version": 3
   },
   "file_extension": ".py",
   "mimetype": "text/x-python",
   "name": "python",
   "nbconvert_exporter": "python",
   "pygments_lexer": "ipython3",
   "version": "3.8.8"
  },
  "orig_nbformat": 4
 },
 "nbformat": 4,
 "nbformat_minor": 2
}
