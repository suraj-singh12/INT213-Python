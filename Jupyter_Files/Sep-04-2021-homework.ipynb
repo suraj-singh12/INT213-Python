{
 "cells": [
  {
   "cell_type": "code",
   "execution_count": null,
   "source": [
    "''' \n",
    "Write a password guessing program to keep track of how many times the user has entered the password wrong. \n",
    "If it is more than 3 times, print \"You have been denied access.\" and terminate the program. \n",
    "If the password is correct, print \"You have successfully logged in.\" and terminate the program.\n",
    "'''\n",
    "\n",
    "password = \"pass\"\n",
    "inpPass = input(\"Enter password: \")\n",
    "\n",
    "counter = 1\n",
    "while inpPass != password:\n",
    "    print(\"Wrong password!!\")\n",
    "    if counter == 3:\n",
    "        break\n",
    "    inpPass = input(\"Enter Password again: \")\n",
    "    counter += 1\n",
    "\n",
    "if counter < 3:\n",
    "    print(\"You have successfully logged in.\")\n",
    "else:\n",
    "    print(\"You have been denied access.\")"
   ],
   "outputs": [],
   "metadata": {}
  },
  {
   "cell_type": "code",
   "execution_count": null,
   "source": [],
   "outputs": [],
   "metadata": {}
  },
  {
   "cell_type": "code",
   "execution_count": null,
   "source": [],
   "outputs": [],
   "metadata": {}
  }
 ],
 "metadata": {
  "orig_nbformat": 4,
  "language_info": {
   "name": "python",
   "version": "3.8.8",
   "mimetype": "text/x-python",
   "codemirror_mode": {
    "name": "ipython",
    "version": 3
   },
   "pygments_lexer": "ipython3",
   "nbconvert_exporter": "python",
   "file_extension": ".py"
  },
  "kernelspec": {
   "name": "python3",
   "display_name": "Python 3.8.8 64-bit ('base': conda)"
  },
  "interpreter": {
   "hash": "455ab5cfbe64c0a2693a555ef07bea68f13a4fdf9ca442f254316cb18226f2df"
  }
 },
 "nbformat": 4,
 "nbformat_minor": 2
}