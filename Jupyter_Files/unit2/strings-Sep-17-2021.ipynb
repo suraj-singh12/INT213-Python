{
 "cells": [
  {
   "cell_type": "markdown",
   "source": [
    "-------------------\n",
    "\n",
    "UNIT 2 : Strings\n",
    "\n",
    "------------------"
   ],
   "metadata": {}
  },
  {
   "cell_type": "code",
   "execution_count": null,
   "source": [
    "# strings\n",
    "\n",
    "s = \"apple\"\n",
    "\n",
    "print(s[0])\n",
    "print(s[len(s)-1])\n",
    "print(s[-1])\n",
    "\n",
    "for elem in s:\n",
    "    print(elem, end=\" \")\n",
    "\n",
    "print()\n",
    "\n",
    "i = 0 \n",
    "while i<len(s):\n",
    "    print(s[i],end=\" \")\n",
    "    i += 1\n",
    "\n",
    "print()\n",
    "\n",
    "for i in range(len(s)):\n",
    "    print(s[i],end=\" \")\n",
    "\n",
    "print()"
   ],
   "outputs": [],
   "metadata": {}
  },
  {
   "cell_type": "code",
   "execution_count": null,
   "source": [
    "# string slicing\n",
    "\n",
    "s = \"Suraj Tarun Akshat\"\n",
    "\n",
    "print(s[0:5])\n",
    "print(s[6:11])\n",
    "print(s[12:])\n",
    "\n",
    "print(s[0:])\n",
    "print(s)\n",
    "\n",
    "print(s[0::6])\n",
    "# s[start:end:step]\n",
    "\n",
    "print(s[::-1])  \n",
    "# printing in reversed manner\n"
   ],
   "outputs": [],
   "metadata": {}
  },
  {
   "cell_type": "code",
   "execution_count": null,
   "source": [
    "# strings are immutable i.e. we can't modify them\n",
    "s = \"python\"\n",
    "# s[0] = 'z'      # Error: 'str' object does not support item assignment\n",
    "\n",
    "newS = 'z' + s[1:]      # this is the right way\n",
    "newS2 = s.replace('p','z',1)    # this replaces only the first occurence of p with z\n",
    "print(newS)\n",
    "print(newS2)\n",
    "\n",
    "print(s)"
   ],
   "outputs": [],
   "metadata": {}
  },
  {
   "cell_type": "code",
   "execution_count": null,
   "source": [
    "# count the number of times a character is present in string\n",
    "\n",
    "s = \"hello world\"\n",
    "target = 'l'\n",
    "\n",
    "# using for loop (range based)\n",
    "counter = 0\n",
    "for i in range(len(s)):\n",
    "    if  s[i] == target:\n",
    "        counter+=1\n",
    "print(target,\"is present\", counter,\"number of times\")\n",
    "\n",
    "# using while loop\n",
    "counter = 0\n",
    "index = 0\n",
    "while index < len(s):\n",
    "    if s[index] == target:\n",
    "        counter += 1\n",
    "    index += 1\n",
    "print(target,\"is present\", counter,\"number of times\")\n",
    "\n"
   ],
   "outputs": [],
   "metadata": {}
  },
  {
   "cell_type": "code",
   "execution_count": null,
   "source": [
    "print(dir(str),end=\" \")"
   ],
   "outputs": [],
   "metadata": {}
  },
  {
   "cell_type": "code",
   "execution_count": null,
   "source": [
    "\n",
    "s = \"apple\"\n",
    "print(s.find('p')) # return the first index of the element as soon found\n",
    "\n",
    "s = \"malayalam\"\n",
    "print(s.find('a',4)) # find(char,index)   start searching from index\n",
    "\n",
    "s = \"it is nice\"\n",
    "print(s.find(\"nice\"))\n",
    "print(s.find(\"is\"))\n",
    "print(s.find('it'))\n",
    "print(s.find(\"It\"))     # will return -1 as it is case sensitive so 'It' is not in string, 'it' is\n",
    "print(s.find(\"This\"))   # will print -1 (as it is not present in the string)\n",
    "\n",
    "import string\n",
    "print(string.ascii_lowercase)\n",
    "print(string.ascii_uppercase)\n",
    "print(string.digits)\n",
    "print(s.capitalize())\n",
    "print(s.upper())\n",
    "print(s.lower())\n",
    "print(s.isalnum())\n",
    "print(s.isupper())\n",
    "print(s.islower())\n",
    "print(s.isdigit())\n",
    "print(s.isspace())\n"
   ],
   "outputs": [],
   "metadata": {}
  },
  {
   "cell_type": "code",
   "execution_count": null,
   "source": [
    "#\n",
    "s = \"welcome\"\n",
    "print(s*2)\n",
    "\n",
    "s = \"PYnative\"\n",
    "print(s[1:4], s[:5], s[4:], s[0:-1], s[:-1])"
   ],
   "outputs": [],
   "metadata": {}
  },
  {
   "cell_type": "markdown",
   "source": [
    "---------------------------\n",
    "Sep-18-2021\n",
    "\n",
    "---------------------------"
   ],
   "metadata": {}
  },
  {
   "cell_type": "code",
   "execution_count": 8,
   "source": [
    "# check if given string is symmetric\n",
    "# a string is symmetric if after dividing into 2 parts, both of the parts are equal  \n",
    "# below both strings are symmetric\n",
    "# khokho = 6 ; 3; [0,3) [3,6)\n",
    "# khokh = 5 ; 2; [0,2) [3,5)\n",
    "# this is not symmetric : khokhoo, okadsd, hello, etc\n",
    "\n",
    "s = input(\"Enter the string: \")\n",
    "mid = int(len(s)/2)\n",
    "\n",
    "first = s[0:mid]\n",
    "if len(s) % 2 == 0:\n",
    "    second = s[mid:]\n",
    "else:\n",
    "    second = s[mid+1:]\n",
    "\n",
    "if first == second:\n",
    "    print(\"Symmetric !\")\n",
    "else:\n",
    "    print(\"Non-Symmetric !\")"
   ],
   "outputs": [
    {
     "output_type": "stream",
     "name": "stdout",
     "text": [
      "Symmetric !\n"
     ]
    }
   ],
   "metadata": {}
  },
  {
   "cell_type": "code",
   "execution_count": 9,
   "source": [
    "# string is pallindrome or not\n",
    "# if the reverse of the string is equal to original string itself , then it is pallindrome string else not\n",
    "# eg: mam, maam, abba,\n",
    "# not palindrome examples: hello, dear, khokho, dramam, etc\n",
    "s = input(\"Enter the string: \")\n",
    "reverse = s[::-1]\n",
    "if s == reverse:\n",
    "    print(\"Pallidrome !!\")\n",
    "else:\n",
    "    print(\"Not Pallindrome\")"
   ],
   "outputs": [
    {
     "output_type": "stream",
     "name": "stdout",
     "text": [
      "Pallidrome !!\n"
     ]
    }
   ],
   "metadata": {}
  },
  {
   "cell_type": "code",
   "execution_count": 10,
   "source": [
    "# find if the number is a pallindrome or not\n",
    "number = int(input(\"Enter a number: \"))\n",
    "revNumber = 0\n"
   ],
   "outputs": [],
   "metadata": {}
  },
  {
   "cell_type": "code",
   "execution_count": 11,
   "source": [
    "# MCQ, what is the output of this code\n",
    "\n",
    "s = \"pynative\"\n",
    "list = [\"abc\", \"pynative\", \"xyz\"]\n",
    "print(list[1] == s)     # true offcourse, as both are equal\n",
    "print(list[1] is s)     # this also true, becuase object 'pynative' is being pointed by both list[1] and s ; so id is same therefore, true"
   ],
   "outputs": [
    {
     "output_type": "stream",
     "name": "stdout",
     "text": [
      "True\n",
      "True\n"
     ]
    }
   ],
   "metadata": {}
  }
 ],
 "metadata": {
  "orig_nbformat": 4,
  "language_info": {
   "name": "python",
   "version": "3.8.8",
   "mimetype": "text/x-python",
   "codemirror_mode": {
    "name": "ipython",
    "version": 3
   },
   "pygments_lexer": "ipython3",
   "nbconvert_exporter": "python",
   "file_extension": ".py"
  },
  "kernelspec": {
   "name": "python3",
   "display_name": "Python 3.8.8 64-bit ('base': conda)"
  },
  "interpreter": {
   "hash": "455ab5cfbe64c0a2693a555ef07bea68f13a4fdf9ca442f254316cb18226f2df"
  }
 },
 "nbformat": 4,
 "nbformat_minor": 2
}