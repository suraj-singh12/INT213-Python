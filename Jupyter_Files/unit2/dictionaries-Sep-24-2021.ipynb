{
 "cells": [
  {
   "cell_type": "markdown",
   "source": [
    "--------------------\n",
    "# Dictionaries\n",
    "\n",
    "-------------------\n",
    "\n",
    "## d = {key1: value, key2: value, ....., keyN: value}\n",
    "## note: there are no index in dictionaries\n",
    "## there are only keys (unique), and corresponding values \n",
    "\n",
    "------------------"
   ],
   "metadata": {}
  },
  {
   "cell_type": "code",
   "execution_count": null,
   "source": [
    "\n",
    "d = {}      # empty dictionary\n",
    "\n",
    "d2 = {\"one\":1,\"two\":2,\"three\":3};       # creating a dict (with key value pairs)\n",
    "print(\"d2: \", d2)\n",
    "\n",
    "d3 = {}\n",
    "d3[1] = \"one\"       # at [key] insert element\n",
    "d3[5] = \"five\"\n",
    "print(\"d3: \", d3)\n",
    "\n",
    "print(d2.get(\"one\"))        # find the value at key\n",
    "d2[\"one\"] = 10          # at key \"one\" insert value 10\n",
    "print(\"d2: \", d2)\n",
    "\n",
    "d2[\"ten\"] = 10          # inserting one more key value pair\n",
    "print(\"d2: \", d2)\n",
    "\n",
    "del d2[\"two\"]       # delete the key value pair of this key\n",
    "print(\"d2: \", d2)"
   ],
   "outputs": [],
   "metadata": {}
  },
  {
   "cell_type": "code",
   "execution_count": null,
   "source": [
    "# dictionary methods/fuctions\n",
    "d2 = {\"one\":1,\"two\":2,\"three\":3};\n",
    "print(\"keys: \", d2.keys())\n",
    "print(\"values: \", d2.values())\n",
    "print(\"key value pairs: \", d2.items())\n"
   ],
   "outputs": [],
   "metadata": {}
  },
  {
   "cell_type": "code",
   "execution_count": null,
   "source": [
    "# aliasing\n",
    "d2 = {\"one\":1,\"two\":2,\"three\":3};\n",
    "f = d2      # f is an alias of d2\n",
    "\n",
    "f[\"one\"] = 7    # see changing a key's value in f\n",
    "print(\"d2: \", d2)       # reflects the same in d2\n",
    "print(\"f: \", f)\n",
    "\n"
   ],
   "outputs": [],
   "metadata": {}
  },
  {
   "cell_type": "code",
   "execution_count": null,
   "source": [
    "# creating a deep copy (not alias)\n",
    "d2 = {\"one\":1,\"two\":2,\"three\":3};\n",
    "\n",
    "g = d2.copy()       # creating a copy (a deep copy of d2 in g)\n",
    "g[\"two\"] = 100\n",
    "print(\"d2: \", d2)       # see g is not a alias of d2\n",
    "print(\"g: \",g)"
   ],
   "outputs": [],
   "metadata": {}
  },
  {
   "cell_type": "code",
   "execution_count": null,
   "source": [
    "# sparse matrix problem is solved using dictionaries efficiently\n",
    "# very important thing (check ppt)\n",
    "# no need to store zeroes, numbers can be inserted using (row,col) positions\n",
    "\n",
    "# NOTE:\n",
    "# dictionary's syntax can't show a zero in sparse matrix\n",
    "# matrix.get((x,y),0)       # print what is at (x,y) in matrix; if there is nothing there, print 0\n"
   ],
   "outputs": [],
   "metadata": {}
  },
  {
   "cell_type": "code",
   "execution_count": null,
   "source": [
    "# fibonacci series problem is also solved using dictionaries efficiently\n",
    "# 0 1 1 2 3 5 8 13 ....\n",
    "previous = {1:0, 2:1}       # 1st two terms are 0, 1\n",
    "\n",
    "def fib(n):\n",
    "    if n in previous:       # check if this term is already in previous dict; if yes, just return the value\n",
    "        return previous[n]\n",
    "    else:                   # if not found in previous\n",
    "        new = fib(n-1) + fib(n-2)   # calculate \n",
    "        previous[n] = new       # store in previous\n",
    "        return new          # and now return the value\n",
    "\n",
    "n = 7\n",
    "print(fib(n)) "
   ],
   "outputs": [],
   "metadata": {}
  },
  {
   "cell_type": "code",
   "execution_count": 26,
   "source": [
    "# Question: what is the output of the following code\n",
    "\n",
    "d1 ={\"abc\":1,\"def\":2,\"ghi\":3}\n",
    "print(d1[0])\n",
    "\n",
    "\n",
    "# gives error because there is no key 0 in d1\n",
    "# a safe way is to use get method \n",
    "# d1.get(key)       # if the key is present value will be returned; otherwise None is returned"
   ],
   "outputs": [
    {
     "output_type": "stream",
     "name": "stdout",
     "text": [
      "None\n"
     ]
    }
   ],
   "metadata": {}
  },
  {
   "cell_type": "code",
   "execution_count": 7,
   "source": [
    "# find the frequency of a character in a string using dictionary\n",
    "word = \"MISSISSIPPI\"\n",
    "frequency = {}\n",
    "for key in word:\n",
    "    if key in frequency.keys():\n",
    "        frequency[key] += 1\n",
    "    else:\n",
    "        frequency[key] = 1\n",
    "\n",
    "print(frequency)"
   ],
   "outputs": [
    {
     "output_type": "stream",
     "name": "stdout",
     "text": [
      "{'M': 1, 'I': 4, 'S': 4, 'P': 2}\n"
     ]
    }
   ],
   "metadata": {}
  },
  {
   "cell_type": "markdown",
   "source": [
    "-------------------------\n",
    "25-Sep-2021\n",
    "\n",
    "------------------------"
   ],
   "metadata": {}
  },
  {
   "cell_type": "code",
   "execution_count": 12,
   "source": [
    "# find the frequency of a character in a string using dictionary\n",
    "# other style\n",
    "word = \"MISSISSIPPI\"\n",
    "frequency = {}\n",
    "for key in word:\n",
    "    # if the letter is not in frequency dict, then frequency.get(key,0) will return 0 else the value\n",
    "    frequency[key] = frequency.get(key,0) + 1\n",
    "\n",
    "print(frequency)\n",
    "\n",
    "# sorting the dictionary\n",
    "print(sorted(frequency.items()))"
   ],
   "outputs": [
    {
     "output_type": "stream",
     "name": "stdout",
     "text": [
      "{'M': 1, 'I': 4, 'S': 4, 'P': 2}\n",
      "[('I', 4), ('M', 1), ('P', 2), ('S', 4)]\n"
     ]
    }
   ],
   "metadata": {}
  },
  {
   "cell_type": "code",
   "execution_count": 24,
   "source": [
    "# iterate through a dictionary\n",
    "d = {1:\"one\", 2:\"two\", 3: \"three\"}\n",
    "\n",
    "print(\"Way 1:\")\n",
    "for key, value in d.items():\n",
    "    print(key,value)\n",
    "\n",
    "print(\"\\nAnother way:\")\n",
    "for k in d:\n",
    "    print(k, d[k])\n"
   ],
   "outputs": [
    {
     "output_type": "stream",
     "name": "stdout",
     "text": [
      "Way 1:\n",
      "1 one\n",
      "2 two\n",
      "3 three\n",
      "\n",
      "Another way:\n",
      "1 one\n",
      "2 two\n",
      "3 three\n"
     ]
    }
   ],
   "metadata": {}
  },
  {
   "cell_type": "code",
   "execution_count": 27,
   "source": [
    "# remove a key from a dictionary\n",
    "d = {5:\"five\", 2:\"two\", 3: \"three\"}\n",
    "if 5 in d.keys():\n",
    "    del d[5]        # deleting key 5\n",
    "print(d)"
   ],
   "outputs": [
    {
     "output_type": "stream",
     "name": "stdout",
     "text": [
      "{2: 'two', 3: 'three'}\n"
     ]
    }
   ],
   "metadata": {}
  },
  {
   "cell_type": "code",
   "execution_count": 35,
   "source": [
    "# find minimum and maximum value in a dictionary\n",
    "d = {\"Mango\":56, \"Banana\":30, \"Papaya\": 70}\n",
    "# using functions\n",
    "print(max(d.values()))\n",
    "print(min(d.values()))\n",
    "\n",
    "# conventional way\n",
    "minVal = 9999999999\n",
    "maxVal = -999999999\n",
    "for value in d.values():\n",
    "    if(value < minVal):\n",
    "        minVal = value\n",
    "    if(value > maxVal):\n",
    "        maxVal = value\n",
    "print(minVal, maxVal)"
   ],
   "outputs": [
    {
     "output_type": "stream",
     "name": "stdout",
     "text": [
      "70\n",
      "30\n",
      "30 70\n"
     ]
    }
   ],
   "metadata": {}
  },
  {
   "cell_type": "code",
   "execution_count": 38,
   "source": [
    "# concatenate two dictionaries into one\n",
    "a = {\"red\":65,\"blue\":45,\"green\":100}\n",
    "b = {\"violet\":56, \"pink\":30, \"white\": 70}\n",
    "\n",
    "a.update(b)\n",
    "\n",
    "print(a)\n"
   ],
   "outputs": [
    {
     "output_type": "stream",
     "name": "stdout",
     "text": [
      "{'red': 65, 'blue': 45, 'green': 100, 'violet': 56, 'pink': 30, 'white': 70}\n"
     ]
    }
   ],
   "metadata": {}
  },
  {
   "cell_type": "code",
   "execution_count": 42,
   "source": [
    "# check if a specific key is present or not in dict\n",
    "d = {\"violet\":56, \"pink\":30, \"white\": 70}\n",
    "\n",
    "k = \"white\"\n",
    "if k in d.keys():\n",
    "    print(\"Yes, Exists\")\n",
    "else:\n",
    "    print(\"No, does not exists\")\n"
   ],
   "outputs": [
    {
     "output_type": "stream",
     "name": "stdout",
     "text": [
      "Yes, Exists\n"
     ]
    }
   ],
   "metadata": {}
  },
  {
   "cell_type": "code",
   "execution_count": 53,
   "source": [
    "# concatenate two dictionaries into 3rd\n",
    "d = {\"violet\":56, \"pink\":30, \"white\": 70}\n",
    "a = {\"red\":65,\"blue\":45,\"green\":100,\"violet\":54}\n",
    "# note: + operator does not work with dictionaries \n",
    "# to concatenate two dictioanries we use update() function\n",
    "\n",
    "newDict = {}\n",
    "newDict.update(d)\n",
    "newDict.update(a)       # see this also updates the color voilet value\n",
    "print(newDict)"
   ],
   "outputs": [
    {
     "output_type": "stream",
     "name": "stdout",
     "text": [
      "{'violet': 54, 'pink': 30, 'white': 70, 'red': 65, 'blue': 45, 'green': 100}\n"
     ]
    }
   ],
   "metadata": {}
  },
  {
   "cell_type": "code",
   "execution_count": 48,
   "source": [
    "# write a py script to print number 1-15 as keys and their squares as values\n",
    "d = {}\n",
    "for i in range(1,16):\n",
    "    d[i] = i * i\n",
    "print(d)"
   ],
   "outputs": [
    {
     "output_type": "stream",
     "name": "stdout",
     "text": [
      "{1: 1, 2: 4, 3: 9, 4: 16, 5: 25, 6: 36, 7: 49, 8: 64, 9: 81, 10: 100, 11: 121, 12: 144, 13: 169, 14: 196, 15: 225}\n"
     ]
    }
   ],
   "metadata": {}
  },
  {
   "cell_type": "code",
   "execution_count": 50,
   "source": [
    "# sum of all the values of a dictionary\n",
    "d = {\"one\":1, \"two\":2, \"three\":3}\n",
    "\n",
    "s = sum(d.values())\n",
    "print(s)\n"
   ],
   "outputs": [
    {
     "output_type": "stream",
     "name": "stdout",
     "text": [
      "6\n"
     ]
    }
   ],
   "metadata": {}
  },
  {
   "cell_type": "code",
   "execution_count": null,
   "source": [
    "# Q 10 and 11 HOMEWORK\n"
   ],
   "outputs": [],
   "metadata": {}
  }
 ],
 "metadata": {
  "orig_nbformat": 4,
  "language_info": {
   "name": "python",
   "version": "3.8.8",
   "mimetype": "text/x-python",
   "codemirror_mode": {
    "name": "ipython",
    "version": 3
   },
   "pygments_lexer": "ipython3",
   "nbconvert_exporter": "python",
   "file_extension": ".py"
  },
  "kernelspec": {
   "name": "python3",
   "display_name": "Python 3.8.8 64-bit ('base': conda)"
  },
  "interpreter": {
   "hash": "455ab5cfbe64c0a2693a555ef07bea68f13a4fdf9ca442f254316cb18226f2df"
  }
 },
 "nbformat": 4,
 "nbformat_minor": 2
}