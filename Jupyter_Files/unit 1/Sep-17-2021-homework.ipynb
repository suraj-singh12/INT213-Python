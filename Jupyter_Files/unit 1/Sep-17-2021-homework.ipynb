{
 "cells": [
  {
   "cell_type": "code",
   "execution_count": null,
   "source": [
    "# program to validate a mobile number\n",
    "mobile = input(\"Enter mobile no(without country code): \")\n",
    "if len(mobile) == 10 and mobile.isdigit() == True:\n",
    "    print(\"Validation Success !!\")\n",
    "else:\n",
    "    print(\"Validation Failed !!\")"
   ],
   "outputs": [],
   "metadata": {}
  },
  {
   "cell_type": "code",
   "execution_count": null,
   "source": [
    "# find a substring in the string, captitalise it, and print\n",
    "s = input(\"Enter a string: \")\n",
    "sub = input(\"Enter substring to be capitalized: \")\n",
    "\n",
    "if sub in s:\n",
    "    s = s.replace(sub,sub.upper())\n",
    "    print(s)\n",
    "else:\n",
    "    print(\"Ops!\", sub, \"not found in\", s)"
   ],
   "outputs": [],
   "metadata": {}
  },
  {
   "cell_type": "code",
   "execution_count": null,
   "source": [
    "#validate email\n",
    "\n",
    "email = input(\"Enter your email: \")\n",
    "\n",
    "if '@' in email and '.' in email:\n",
    "    print(\"Validation Success !!\")\n",
    "else:\n",
    "    print(\"Validation Failed !!\")\n"
   ],
   "outputs": [],
   "metadata": {}
  }
 ],
 "metadata": {
  "orig_nbformat": 4,
  "language_info": {
   "name": "python",
   "version": "3.8.8",
   "mimetype": "text/x-python",
   "codemirror_mode": {
    "name": "ipython",
    "version": 3
   },
   "pygments_lexer": "ipython3",
   "nbconvert_exporter": "python",
   "file_extension": ".py"
  },
  "kernelspec": {
   "name": "python3",
   "display_name": "Python 3.8.8 64-bit ('base': conda)"
  },
  "interpreter": {
   "hash": "455ab5cfbe64c0a2693a555ef07bea68f13a4fdf9ca442f254316cb18226f2df"
  }
 },
 "nbformat": 4,
 "nbformat_minor": 2
}