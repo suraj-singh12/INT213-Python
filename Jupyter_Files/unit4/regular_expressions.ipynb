{
 "cells": [
  {
   "cell_type": "code",
   "execution_count": null,
   "metadata": {},
   "outputs": [],
   "source": [
    "# # Regular Exprssions\n",
    "\n",
    "# Pattern\n",
    "# Email id \n",
    "# url\n",
    "# pin code\n",
    "# post code\n"
   ]
  },
  {
   "cell_type": "code",
   "execution_count": 2,
   "metadata": {},
   "outputs": [
    {
     "name": "stdout",
     "output_type": "stream",
     "text": [
      "Yes! We have a match\n"
     ]
    }
   ],
   "source": [
    "import re\n",
    "\n",
    "text = \"The rain in Spain\"\n",
    "x = re.search(\"^The.*Spain$\", text)\n",
    "\n",
    "if  x:\n",
    "    print(\"Yes! We have a match\")\n",
    "else:\n",
    "    print(\"No match\")"
   ]
  },
  {
   "cell_type": "code",
   "execution_count": null,
   "metadata": {},
   "outputs": [],
   "source": [
    "# metacharacters\n",
    "\n",
    " \n",
    "''' \n",
    "[] : square brackets (specifies the characters you wish to match)\n",
    "\n",
    "[abc] a 1 match\n",
    "        ac 2 matches\n",
    "\n",
    "[a-e] same as [abcde]\n",
    "[1-4] same as [1234]\n",
    "complement\n",
    "[^abc] means except abc\n",
    "[^123] means except 123\n",
    "\n",
    "\n",
    "2) . (period) - matches any single character except newline \\n\n",
    "\n",
    "3) ^ caret - check if a string starts with a certain \"character\" or not\n",
    "   ^a string a 1 match\n",
    "        abc 1 match \n",
    "        bac - match \n",
    "        abc 1 match\n",
    "    ^ab acb 0 match [a begin (yes), b is not second char]\n",
    "\n",
    "\n",
    "3) $ - used to check if a string ends with a certain character\n",
    "a& a 1 match \n",
    "formula 1 match\n",
    "cab 0 match\n",
    "\n",
    "4) * star - matches zero or more occurences of the pattern left to it\n",
    "Expression      String\n",
    "ma*n            mn          1 match ( because it checks 'm' then a present 0 or more times then 'n')\n",
    "                man         1 match\n",
    "                main        0 match\n",
    "                woman       1 match\n",
    "\n",
    "5) + matches one or more occurences of the pattern left to it\n",
    "ma+n            mn  0 match\n",
    "                man 1 match\n",
    "                maan 1 match\n",
    "\n",
    "6) ? - matches zero or one occurence of the pattern left to it\n",
    "\n",
    "ma?n    mn      1 match\n",
    "        man     1 match\n",
    "        maan    0 match\n",
    "        main    0 match\n",
    "\n",
    "7) {} - {n,m} atleast n and atmost m repeatitions (at same place) \n",
    "\n",
    "a{2,3}      abc dac     0 match\n",
    "            abc daat    1 match\n",
    "            aabc        1 match\n",
    "\n",
    "8) | alteration(or operator)\n",
    "\n",
    "a|b     cde     no match\n",
    "        ade     1 match\n",
    "        acbdea  3 match\n",
    "\n",
    "9) backslash - escape various characters including meta characters\n",
    "\\$a \n",
    "'''\n"
   ]
  }
 ],
 "metadata": {
  "interpreter": {
   "hash": "40bf8eb891a54e34089fdca0d4bd01242912015f52133965af404fef137a91ce"
  },
  "kernelspec": {
   "display_name": "Python 3.8.8 64-bit ('base': conda)",
   "name": "python3"
  },
  "language_info": {
   "codemirror_mode": {
    "name": "ipython",
    "version": 3
   },
   "file_extension": ".py",
   "mimetype": "text/x-python",
   "name": "python",
   "nbconvert_exporter": "python",
   "pygments_lexer": "ipython3",
   "version": "3.8.8"
  },
  "orig_nbformat": 4
 },
 "nbformat": 4,
 "nbformat_minor": 2
}
