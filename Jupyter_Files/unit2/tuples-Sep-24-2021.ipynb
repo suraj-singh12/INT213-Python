{
 "cells": [
  {
   "cell_type": "markdown",
   "source": [
    "-------------------------\n",
    "Tuples\n",
    "\n",
    "-------------------------"
   ],
   "metadata": {}
  },
  {
   "cell_type": "code",
   "execution_count": null,
   "source": [
    "# NOTE: tuples are just like lists, but they are immutable\n",
    "\n",
    "a = (1,2,3,4,\"hey\",\"done\")\n",
    "print(type(a))\n",
    "\n",
    "b = (2,)        # for single element we need to give a comma at last, so interpreter knows it is a tuple\n",
    "print(type(b))\n",
    "\n",
    "c = 1,2,3,4\n",
    "print(type(c))\n",
    "\n",
    "# accessing by index\n",
    "print(a[0])\n",
    "print(a[-1])\n",
    "\n",
    "# slicing\n",
    "print(a[0:4])\n",
    "print(a[3:])\n",
    "\n",
    "# concatenation\n",
    "print(a+b)\n",
    "\n",
    "# multiply\n",
    "print(b*2)\n",
    "\n"
   ],
   "outputs": [],
   "metadata": {}
  },
  {
   "cell_type": "code",
   "execution_count": null,
   "source": [
    "# tuples are immutable\n",
    "a = (1,2,3,4,\"hey\",\"done\")\n",
    "a[0] = 56   # this will give error since tuples are immutable"
   ],
   "outputs": [],
   "metadata": {}
  },
  {
   "cell_type": "code",
   "execution_count": 5,
   "source": [
    "def swap(a,b):\n",
    "    return b,a  # returns a tuple (immutable)\n",
    "\n",
    "print(swap(10,20))\n",
    "\n",
    "def swap2(a,b):\n",
    "    a,b = b,a\n",
    "    return [a,b]        # returns a list (mutable)\n",
    "\n",
    "print(swap2(10,20))"
   ],
   "outputs": [
    {
     "output_type": "stream",
     "name": "stdout",
     "text": [
      "(20, 10)\n",
      "[20, 10]\n"
     ]
    }
   ],
   "metadata": {}
  },
  {
   "cell_type": "code",
   "execution_count": 6,
   "source": [
    "# printing random numbers\n",
    "import random\n",
    "# random.random() returns a random number between [0,1)\n",
    "\n",
    "for i in range(10):\n",
    "    n = random.random()\n",
    "    print(n)\n"
   ],
   "outputs": [
    {
     "output_type": "stream",
     "name": "stdout",
     "text": [
      "0.15287661964206511\n",
      "0.7453804886736047\n",
      "0.6668480371049034\n",
      "0.38831308568906986\n",
      "0.5321743284447071\n",
      "0.9854869925077068\n",
      "0.1842774450593383\n",
      "0.7952433202677262\n",
      "0.3406119585609235\n",
      "0.9053077247145537\n"
     ]
    }
   ],
   "metadata": {}
  },
  {
   "cell_type": "code",
   "execution_count": 10,
   "source": [
    "# generate a list of n random numbers\n",
    "import random\n",
    "\n",
    "def randomList(n):\n",
    "    l = []              # empty list\n",
    "    for i in range(n):\n",
    "        l.append(random.random())\n",
    "    return l\n",
    "\n",
    "print(randomList(5))"
   ],
   "outputs": [
    {
     "output_type": "stream",
     "name": "stdout",
     "text": [
      "[0.04068229381600297, 0.2258833510906001, 0.1481478869189573, 0.5963256033344534, 0.4162686261803069]\n"
     ]
    }
   ],
   "metadata": {}
  },
  {
   "cell_type": "code",
   "execution_count": 11,
   "source": [
    "# Inbuilt functions : tuples\n",
    "a = (1,2,3,4)\n",
    "print(len(a))\n",
    "print(min(a))\n",
    "print(max(a))\n",
    "\n",
    "# converting to list\n",
    "print(list(a))\n",
    "\n",
    "l = [1,2,4,5]\n",
    "# converting a list to tuple\n",
    "print(tuple(l))\n",
    "\n"
   ],
   "outputs": [
    {
     "output_type": "stream",
     "name": "stdout",
     "text": [
      "4\n",
      "1\n",
      "4\n",
      "[1, 2, 3, 4]\n",
      "(1, 2, 4, 5)\n"
     ]
    }
   ],
   "metadata": {}
  },
  {
   "cell_type": "code",
   "execution_count": 14,
   "source": [
    "t = (1,2,3,4)\n",
    "print(len(t))\n",
    "\n",
    "# t[0] = 5      # not possible because immutable \n",
    "# so convert it into a list first\n",
    "t = list(t)\n",
    "t[0] = 5\n",
    "# convert back to a tuple\n",
    "t = tuple(t)\n",
    "\n",
    "print(t)\n",
    "\n"
   ],
   "outputs": [
    {
     "output_type": "stream",
     "name": "stdout",
     "text": [
      "4\n",
      "(5, 2, 3, 4)\n"
     ]
    }
   ],
   "metadata": {}
  },
  {
   "cell_type": "code",
   "execution_count": 17,
   "source": [
    "# create a tuple and append 2 tuples in it and print\n",
    "t1 = (1,)\n",
    "t2 = (3,4)\n",
    "t3 = (5,6)\n",
    "t1 = t1 + t2 + t3\n",
    "print(t1)\n"
   ],
   "outputs": [
    {
     "output_type": "stream",
     "name": "stdout",
     "text": [
      "(1, 3, 4, 5, 6)\n"
     ]
    }
   ],
   "metadata": {}
  },
  {
   "cell_type": "code",
   "execution_count": 23,
   "source": [
    "# create a tuple and sort it\n",
    "\n",
    "t = (1,5,7,2,3,4)\n",
    "# t.sort()        # can't do, because sort() is a function which will manipulate elements; this is not allowed in tuples\n",
    "\n",
    "# so convert t into a list \n",
    "t = list(t)\n",
    "t.sort()        # sort it\n",
    "t = tuple(t)    # convert it into a tuple back\n",
    "print(t)        # print\n",
    "\n",
    "# OR do just\n",
    "print(sorted(list(t)))"
   ],
   "outputs": [
    {
     "output_type": "stream",
     "name": "stdout",
     "text": [
      "(1, 2, 3, 4, 5, 7)\n",
      "[1, 2, 3, 4, 5, 7]\n"
     ]
    }
   ],
   "metadata": {}
  },
  {
   "cell_type": "code",
   "execution_count": 25,
   "source": [
    "# create a tuple of numbers and print sum of all elements in it\n",
    "t = (1,2,3,4,5)\n",
    "print(sum(t))       # sum function does not alter any element in tuple, so it can safely work on it"
   ],
   "outputs": [
    {
     "output_type": "stream",
     "name": "stdout",
     "text": [
      "15\n"
     ]
    }
   ],
   "metadata": {}
  },
  {
   "cell_type": "code",
   "execution_count": 26,
   "source": [
    "# compare elements of two tuples\n",
    "t1 = (1,5,8,9)\n",
    "t2 = (2,4,6,9)\n",
    "for i in range(len(t1)):\n",
    "    print(t1[i] == t2[i])"
   ],
   "outputs": [
    {
     "output_type": "stream",
     "name": "stdout",
     "text": [
      "False\n",
      "False\n",
      "False\n",
      "True\n"
     ]
    }
   ],
   "metadata": {}
  },
  {
   "cell_type": "code",
   "execution_count": 31,
   "source": [
    "# count the occurence of an element in a tuple in a specified range\n",
    "\n",
    "t = (1,3,5,6,2,1,1,2)\n",
    "start = 3\n",
    "end = len(t) -1 \n",
    "elem = 1\n",
    "count = 0\n",
    "\n",
    "# method 1\n",
    "for i in range(start, end+1):\n",
    "    if t[i] == elem:\n",
    "        count += 1\n",
    "\n",
    "print(count)\n",
    "\n",
    "# OR Method 2\n",
    "print(t[start:end+1].count(elem))       # count the  occurence of elem in [start:end) range in the t tuple"
   ],
   "outputs": [
    {
     "output_type": "stream",
     "name": "stdout",
     "text": [
      "2\n",
      "2\n"
     ]
    }
   ],
   "metadata": {}
  },
  {
   "cell_type": "code",
   "execution_count": null,
   "source": [],
   "outputs": [],
   "metadata": {}
  }
 ],
 "metadata": {
  "orig_nbformat": 4,
  "language_info": {
   "name": "python",
   "version": "3.8.8",
   "mimetype": "text/x-python",
   "codemirror_mode": {
    "name": "ipython",
    "version": 3
   },
   "pygments_lexer": "ipython3",
   "nbconvert_exporter": "python",
   "file_extension": ".py"
  },
  "kernelspec": {
   "name": "python3",
   "display_name": "Python 3.8.8 64-bit ('base': conda)"
  },
  "interpreter": {
   "hash": "455ab5cfbe64c0a2693a555ef07bea68f13a4fdf9ca442f254316cb18226f2df"
  }
 },
 "nbformat": 4,
 "nbformat_minor": 2
}