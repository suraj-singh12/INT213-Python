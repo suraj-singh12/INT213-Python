{
 "cells": [
  {
   "cell_type": "markdown",
   "metadata": {},
   "source": [
    "## In python the data members and functions/methods of a class are public by default"
   ]
  },
  {
   "cell_type": "code",
   "execution_count": null,
   "metadata": {},
   "outputs": [],
   "source": [
    "# Write a program to find the area and perimeter of a circle using classes\n",
    "import math\n",
    "class circle:\n",
    "    # constructor\n",
    "    def __init__(self,radius):\n",
    "        # instance variable\n",
    "        self.radius  = radius\n",
    "\n",
    "    def area(self):  # public \n",
    "        return math.pi * self.radius * self.radius;\n",
    "    def perimenter(self):   # public\n",
    "        return 2 * math.pi * self.radius\n",
    "\n",
    "c = circle(5)       # c is the object of class circle\n",
    "d = circle(7)       # and so is d\n",
    "\n",
    "print(\"Area of c: \", c.area())\n",
    "print(\"Area of d: \", d.area())\n",
    "\n",
    "print(\"Perimeter of c: \", c.perimenter())\n",
    "print(\"Perimeter of d: \", d.perimenter())\n",
    "\n",
    "\n",
    "print()\n",
    "# some inbuilt functions in classes\n",
    "print(hasattr(c,\"radius\"))  # will check if object 'c' has an attribute named radius and return true if it has, else false\n",
    "print(getattr(c,\"radius\"))  # will print the value of the attribute radius of c object\n",
    "print(setattr(c,\"radius\",9))    # will set the value of the c.radius as 9\n",
    "print(c.radius)\n",
    "print(delattr(c,\"radius\"))  # will delete the radius attribute of the object c\n",
    "print(hasattr(c,\"radius\"))\n",
    "\n",
    "print()\n",
    "# some inbuilt attributes\n",
    "print(\"circle.__doc__\",circle.__doc__)      # class documentation string or none, if undefined\n",
    "print(\"circle.__name__\",circle.__name__)      # name of class \n",
    "print(\"circle.__module__\",circle.__module__)    # module name in which the class is defined. This attribute is __main__ in interactive mode\n",
    "print(\"circle.__bases__\",circle.__bases__)  # a possibly empty tuple containing the base classes, in the order of their occurence in the base class list\n",
    "print(\"circle.__dict__\",circle.__dict__)    # dictionary containing the class's namespace "
   ]
  },
  {
   "cell_type": "markdown",
   "metadata": {},
   "source": [
    "## Access Specifiers:\n",
    "-----------------------\n",
    "\n",
    "### 1. Public: data members, and methods/functions that are public can be accessed outside the class\n",
    "\n",
    "### 2. Private: data member and member functions declared private can't be accessed by anyone outside the class and can't be inherited by any class\n",
    "\n",
    "### 3. Protected: data members and member functions declared protected can't be accessed by anyone outside the class but can be inherited by derived class(es)"
   ]
  },
  {
   "cell_type": "code",
   "execution_count": null,
   "metadata": {},
   "outputs": [],
   "source": [
    "# private data members can be accessed inside the class\n",
    "\n",
    "class student:\n",
    "    # private class variables\n",
    "    # __name = None\n",
    "    # __roll = None\n",
    "    # __branch = None\n",
    "\n",
    "    # constructor\n",
    "    def __init__(self, name, roll, branch):\n",
    "        # private instance variables\n",
    "        self.__name = name\n",
    "        self.__roll = roll\n",
    "        self.__branch = branch\n",
    "    \n",
    "    # private member function\n",
    "    def __display(self):\n",
    "        print(\"Name: \", self.__name)\n",
    "        print(\"Roll no: \", self.__roll)\n",
    "        print(\"Branch: \", self.__branch)\n",
    "    \n",
    "    # public member function\n",
    "    def fun(self):\n",
    "        # accessing private member function\n",
    "        self.__display()\n",
    "    \n",
    "student1 = student(\"Poweruser\",21,\"CSE\")\n",
    "student1.fun()\n",
    "print(hasattr(student1,\"__name\"))\n",
    "print(hasattr(student1,\"__branch\"))\n",
    "print(hasattr(student1,\"fun\"))\n",
    "\n"
   ]
  },
  {
   "cell_type": "code",
   "execution_count": null,
   "metadata": {},
   "outputs": [],
   "source": [
    "class Employee:\n",
    "    'common base class for all employees'       # this is documentation\n",
    "    # class variable\n",
    "    count = 0\n",
    "\n",
    "    def __init__(self, name, salary):\n",
    "        self.name = name\n",
    "        self.salary = salary\n",
    "        Employee.count += 1\n",
    "    \n",
    "    def display_count(self):\n",
    "        print(\"Total employee ids: {}\".format(Employee.count))\n",
    "    \n",
    "    def display_employee(self):\n",
    "        print(\"Name {} \\t salary {}\".format(self.name,self.salary))\n",
    "    \n",
    "e = Employee(\"Michael\",99100)\n",
    "d = Employee(\"Floyd\",98200)\n",
    "e.display_count()\n",
    "e.display_employee()\n",
    "d.display_employee()\n",
    "\n",
    "print()\n",
    "# some inbuilt attributes\n",
    "print(\"Employee.__doc__\",Employee.__doc__)          # class documentation string or none, if undefined\n",
    "print(\"Employee.__name__\",Employee.__name__)         # name of class \n",
    "print(\"Employee.__module__\",Employee.__module__)     # module name in which the class is defined. This attribute is __main__ in interactive mode\n",
    "print(\"Employee.__bases__\",Employee.__bases__)      # a possibly empty tuple containing the base classes, in the order of their occurence in the base class list\n",
    "print(\"Employee.__dict__\",Employee.__dict__)        # dictionary containing the class's namespace "
   ]
  },
  {
   "cell_type": "markdown",
   "metadata": {},
   "source": [
    "--------------\n",
    "\n",
    "## Destructor\n",
    "--------------"
   ]
  },
  {
   "cell_type": "code",
   "execution_count": 2,
   "metadata": {},
   "outputs": [
    {
     "name": "stdout",
     "output_type": "stream",
     "text": [
      "140213723447456\n",
      "140213723447456\n",
      "140213723447456\n"
     ]
    }
   ],
   "source": [
    "# Destructor\n",
    "\n",
    "class Point:\n",
    "    def __init__(self, x=0, y=0):\n",
    "        self.x = x\n",
    "        self.y = y\n",
    "    \n",
    "    # destructor\n",
    "    # automatically invoked when a variable goes out of scope\n",
    "    def __del__(self):\n",
    "        class_name = self.__class__.__name__\n",
    "        print(class_name, \"destroyed\")\n",
    "\n",
    "pt1 = Point()\n",
    "pt2 = pt1       # pt2 is an alias of pt1\n",
    "pt3 = pt1       # pt3 is an alias of pt1\n",
    "\n",
    "# see the ids tell that pt2, pt3 are alias of pt1\n",
    "print(id(pt1))\n",
    "print(id(pt2))\n",
    "print(id(pt3))\n",
    "# NOTE: Python also has a garbage collection tool just like java\n",
    "# when no variable points to a data, that data is removed by garbage collector and memory freed\n",
    "\n",
    "del pt1\n",
    "del pt2\n",
    "del pt3\n",
    "# see only when all three of the variables (pt1, pt2, pt3) are deleted \n",
    "# only then the memory and other resources are freed by the destructor (object destroyed)\n",
    " # (note:           number = 5        \n",
    "            # here `number` is `reference variable`\n",
    "            # and `5` is the `object` (consuming memory and other resources)\n",
    "            # reference variable just points to the object in memory\n",
    "            # when no reference variable is pointing towards the object, it is garbage collected and resources are freed alongwith memory\n",
    "            \n",
    "            # in python, garbage collector does the job, so here destructor is not needed as much as it is in C/C++ \n",
    "            # and neither are they as powerful\n",
    "\n"
   ]
  },
  {
   "cell_type": "markdown",
   "metadata": {},
   "source": [
    "----------------\n",
    "\n",
    "## Inheritance\n",
    "----------------"
   ]
  },
  {
   "cell_type": "markdown",
   "metadata": {},
   "source": [
    "## Single level inheritance\n",
    "\n",
    "1. When a class is inherited from one base class only\n",
    "--------------------------"
   ]
  },
  {
   "cell_type": "code",
   "execution_count": null,
   "metadata": {},
   "outputs": [],
   "source": [
    "# Inheritance \n",
    "# base class-parent class\n",
    "# child class-derived class\n",
    "\n",
    "# base class\n",
    "class Person:\n",
    "    def __init__(self, name, id):\n",
    "        self.name = name\n",
    "        self.id = id\n",
    "    def display(self):\n",
    "        print(self.name)\n",
    "        print(self.id)\n",
    "\n",
    "# child / derived class\n",
    "class Employee(Person):\n",
    "    def __init__(self, name, id, post):\n",
    "        # invoking the constructor of Parent class of Employee (Person class) \n",
    "        Person.__init__(self, name, id)\n",
    "\n",
    "# object / instance\n",
    "obj = Employee(\"Michael\", 123, \"Software Developer\")\n",
    "obj.display()\n"
   ]
  },
  {
   "cell_type": "code",
   "execution_count": null,
   "metadata": {},
   "outputs": [],
   "source": [
    "\n",
    "class Person:\n",
    "    def __init__(self, firstname, lastname):\n",
    "        self.firstname = firstname\n",
    "        self.lastname = lastname\n",
    "    \n",
    "    def fullname(self):\n",
    "        print(self.firstname + \" \" + self.lastname)\n",
    "\n",
    "\n",
    "class Emp(Person):      # inheriting Person class\n",
    "    def __init__(self, firstname, lastname, id):\n",
    "        Person.__init__(self, firstname, lastname)\n",
    "        Emp.id = id\n",
    "    def display(self):\n",
    "        self.fullname()\n",
    "        print(self.id)\n",
    "\n",
    "E1 = Emp(\"Michael\",\"Faraday\", 15)\n",
    "E1.display()\n"
   ]
  },
  {
   "cell_type": "markdown",
   "metadata": {},
   "source": [
    "## Multiple level inheritance \n",
    "\n",
    "1. (when a class is derived from more than one base class)\n",
    "---------"
   ]
  },
  {
   "cell_type": "code",
   "execution_count": null,
   "metadata": {},
   "outputs": [],
   "source": [
    "\n",
    "class base1:\n",
    "    def __init__(self):\n",
    "        self.str1 = \"hello\"\n",
    "        print(\"base1\")\n",
    "\n",
    "class base2:\n",
    "    def __init__(self):\n",
    "        self.str2 = \"world\"\n",
    "        print(\"base2\")\n",
    "\n",
    "class derived(base1, base2):\n",
    "    def __init__(self):\n",
    "        base1.__init__(self)\n",
    "        base2.__init__(self)\n",
    "        print(\"derived\")\n",
    "    \n",
    "    def printstring(self):\n",
    "        print(self.str1, self.str2)\n",
    "\n",
    "d = derived()\n",
    "d.printstring()\n"
   ]
  },
  {
   "cell_type": "markdown",
   "metadata": {},
   "source": [
    "## Multi-level Inheritance (grandfather-father-child)\n",
    "\n",
    "1. When 1 class derives from another which itself derives from another class"
   ]
  },
  {
   "cell_type": "code",
   "execution_count": 53,
   "metadata": {},
   "outputs": [
    {
     "name": "stdout",
     "output_type": "stream",
     "text": [
      "homosapien\n",
      "M\n",
      "Aditya\n",
      "1224\n"
     ]
    }
   ],
   "source": [
    "# mutli-level-inheritance\n",
    "\n",
    "# base class\n",
    "class Human:\n",
    "    def __init__(self):\n",
    "        self.identity = \"Homosapien\"\n",
    "\n",
    "# derived from Human class\n",
    "class Boy(Human):\n",
    "    def __init__(self, name):\n",
    "        Human.__init__(self)\n",
    "        self.gender = \"M\"\n",
    "        self.name = name\n",
    "\n",
    "# derived from Boy class which itself is derived from Human class \n",
    "class Student(Boy):\n",
    "    def __init__(self, name):\n",
    "        Boy.__init__(self, name)\n",
    "        self.sid = 1224\n",
    "    def traits(self):\n",
    "        return self.identity + \"\\n\" + self.gender + \"\\n\" + self.name + \"\\n\" + str(self.sid)\n",
    "\n",
    "\n",
    "student1 = Student(\"Aditya\")\n",
    "print(student1.traits())"
   ]
  },
  {
   "cell_type": "markdown",
   "metadata": {},
   "source": [
    "----------------------------------\n",
    "# 08-10-2021 (last class before MTT)\n",
    "\n",
    "----------------------------------"
   ]
  },
  {
   "cell_type": "code",
   "execution_count": 12,
   "metadata": {},
   "outputs": [
    {
     "name": "stdout",
     "output_type": "stream",
     "text": [
      "This is child method\n",
      "This is parent method\n"
     ]
    }
   ],
   "source": [
    "# Overriding methods\n",
    "\n",
    "class Parent:\n",
    "    def mymethod(self):\n",
    "        print(\"This is parent method\")\n",
    "class Child(Parent):\n",
    "    def __init__(self) -> None:\n",
    "        super().__init__()\n",
    "    def mymethod(self):\n",
    "        print(\"This is child method\")\n",
    "\n",
    "c = Child()\n",
    "c.mymethod()\n",
    "\n",
    "super(Child,c).mymethod()   # bypassing override\n",
    "#(  in C++ it was: object.superClassName.function()   )"
   ]
  },
  {
   "cell_type": "code",
   "execution_count": 13,
   "metadata": {},
   "outputs": [
    {
     "name": "stdout",
     "output_type": "stream",
     "text": [
      "next week\n",
      "class\n",
      "Second CA\n",
      "Python\n"
     ]
    }
   ],
   "source": [
    "#How to bypass overriding? Ans: Using super function\n",
    "#hybrid_inheritance = single + multiple\n",
    "class a:                # a : parent class\n",
    "    def foo(self):\n",
    "        print('Python')\n",
    "class b(a):             # b : child; a : parent  (single level inheritance)\n",
    "    def foo(self):\n",
    "        print('class')\n",
    "        super(b,self).foo()\n",
    "class c(a):\n",
    "    def foo(self):\n",
    "        print('Second CA')\n",
    "        super(c,self).foo()\n",
    "class d(b,c):           # d : child; b,c : parent (multiple level inheritance)\n",
    "    def foo(self):\n",
    "        print('next week')\n",
    "        super(d,self).foo()\n",
    "d1=d()\n",
    "d1.foo()"
   ]
  },
  {
   "cell_type": "code",
   "execution_count": 24,
   "metadata": {},
   "outputs": [
    {
     "name": "stdout",
     "output_type": "stream",
     "text": [
      "5\n",
      "12\n",
      "12\n"
     ]
    }
   ],
   "source": [
    "# Data Hiding\n",
    "\n",
    "class Parent:\n",
    "    __a = 0         #   hidden  attributes (private var)\n",
    "    def add(self,increment):\n",
    "        self.__a += increment\n",
    "        print(self.__a)\n",
    "\n",
    "o = Parent()\n",
    "o.add(5)\n",
    "o.add(7)\n",
    "\n",
    "# print(o.__a)      # can't access private attribute\n",
    "# with a tricky syntax we can access the hidden attribute outside the class also\n",
    "\n",
    "# this way:     object._className__attributeName\n",
    "print(o._Parent__a)"
   ]
  },
  {
   "cell_type": "code",
   "execution_count": 25,
   "metadata": {},
   "outputs": [
    {
     "ename": "TypeError",
     "evalue": "product() missing 1 required positional argument: 'c'",
     "output_type": "error",
     "traceback": [
      "\u001b[0;31m---------------------------------------------------------------------------\u001b[0m",
      "\u001b[0;31mTypeError\u001b[0m                                 Traceback (most recent call last)",
      "\u001b[0;32m<ipython-input-25-ab9dc97a7760>\u001b[0m in \u001b[0;36m<module>\u001b[0;34m\u001b[0m\n\u001b[1;32m      6\u001b[0m     \u001b[0mprint\u001b[0m\u001b[0;34m(\u001b[0m\u001b[0ma\u001b[0m\u001b[0;34m*\u001b[0m\u001b[0mb\u001b[0m\u001b[0;34m*\u001b[0m\u001b[0mc\u001b[0m\u001b[0;34m)\u001b[0m\u001b[0;34m\u001b[0m\u001b[0;34m\u001b[0m\u001b[0m\n\u001b[1;32m      7\u001b[0m \u001b[0;34m\u001b[0m\u001b[0m\n\u001b[0;32m----> 8\u001b[0;31m \u001b[0mproduct\u001b[0m\u001b[0;34m(\u001b[0m\u001b[0;36m2\u001b[0m\u001b[0;34m,\u001b[0m\u001b[0;36m3\u001b[0m\u001b[0;34m)\u001b[0m\u001b[0;34m\u001b[0m\u001b[0;34m\u001b[0m\u001b[0m\n\u001b[0m\u001b[1;32m      9\u001b[0m \u001b[0mproduct\u001b[0m\u001b[0;34m(\u001b[0m\u001b[0;36m2\u001b[0m\u001b[0;34m,\u001b[0m\u001b[0;36m3\u001b[0m\u001b[0;34m,\u001b[0m\u001b[0;36m4\u001b[0m\u001b[0;34m)\u001b[0m\u001b[0;34m\u001b[0m\u001b[0;34m\u001b[0m\u001b[0m\n",
      "\u001b[0;31mTypeError\u001b[0m: product() missing 1 required positional argument: 'c'"
     ]
    }
   ],
   "source": [
    "# method overloading [polymorphism] (python doesn't support overloading, only overriding is supported)\n",
    "def product(a,b):\n",
    "    print(a*b)\n",
    "\n",
    "def product(a,b,c): # this overrides the previous product() function, so there is no product(a,b) now\n",
    "    print(a*b*c)\n",
    "\n",
    "product(2,3)        # so this will throw an error\n",
    "product(2,3,4)"
   ]
  },
  {
   "cell_type": "code",
   "execution_count": 28,
   "metadata": {},
   "outputs": [
    {
     "name": "stdout",
     "output_type": "stream",
     "text": [
      "15\n",
      "hibuddy\n"
     ]
    }
   ],
   "source": [
    "# A workaround to mimic the function overloading thing in Python\n",
    "\n",
    "def add(datatype, *args):\n",
    "    if datatype == 'int':\n",
    "        ans = 0\n",
    "    elif datatype == 'str':\n",
    "        ans = ''\n",
    "    for arg in args:\n",
    "        ans += arg\n",
    "    print(ans)\n",
    "\n",
    "add('int', 6,9)\n",
    "add('str','hi','buddy')\n"
   ]
  },
  {
   "cell_type": "code",
   "execution_count": 40,
   "metadata": {},
   "outputs": [
    {
     "name": "stdout",
     "output_type": "stream",
     "text": [
      "Area of square is: 25\n"
     ]
    }
   ],
   "source": [
    "# Practise Problem\n",
    "\n",
    "class Rectangle:\n",
    "    def __init__(self,length, breadth):\n",
    "        self.length = length\n",
    "        self.breadth = breadth\n",
    "    def getArea(self):\n",
    "        return self.length * self.breadth\n",
    "class Square(Rectangle):\n",
    "    def __init__(self, length, breadth):\n",
    "        super().__init__(length, breadth)\n",
    "        if( length != breadth):\n",
    "            print(\"Error!, sides of a square are same\")\n",
    "            return -1\n",
    "        self.side = length\n",
    "    def getArea(self):\n",
    "        return self.side * self.side\n",
    "\n",
    "s = Square(5,5)\n",
    "print(\"Area of square is:\",s.getArea())"
   ]
  },
  {
   "cell_type": "code",
   "execution_count": null,
   "metadata": {},
   "outputs": [],
   "source": []
  }
 ],
 "metadata": {
  "interpreter": {
   "hash": "455ab5cfbe64c0a2693a555ef07bea68f13a4fdf9ca442f254316cb18226f2df"
  },
  "kernelspec": {
   "display_name": "Python 3.8.8 64-bit ('base': conda)",
   "name": "python3"
  },
  "language_info": {
   "codemirror_mode": {
    "name": "ipython",
    "version": 3
   },
   "file_extension": ".py",
   "mimetype": "text/x-python",
   "name": "python",
   "nbconvert_exporter": "python",
   "pygments_lexer": "ipython3",
   "version": "3.8.8"
  },
  "orig_nbformat": 4
 },
 "nbformat": 4,
 "nbformat_minor": 2
}
