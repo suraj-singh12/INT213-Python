{
 "cells": [
  {
   "cell_type": "code",
   "execution_count": null,
   "source": [],
   "outputs": [],
   "metadata": {}
  },
  {
   "cell_type": "code",
   "execution_count": null,
   "source": [
    "# reverse the number\n",
    "\n",
    "number = int(input(\"Enter the number: \"))\n",
    "revNumber = 0\n",
    "while(number>0):\n",
    "    remainder = number % 10\n",
    "    revNumber = revNumber*10 + remainder\n",
    "    number = number // 10\n",
    "print(\"The reversed number is: \", revNumber)\n"
   ],
   "outputs": [],
   "metadata": {}
  },
  {
   "cell_type": "code",
   "execution_count": null,
   "source": [
    "# print all nubmers in between 1500 and 2700 which are divisible by 7 and multiples of 5\n",
    "for i in range(1500,2701):\n",
    "    if i%5 == 0 and i%7 == 0:\n",
    "        print(i)\n"
   ],
   "outputs": [],
   "metadata": {}
  },
  {
   "cell_type": "code",
   "execution_count": null,
   "source": [
    "# print fibonacci series\n",
    "\n",
    "terms = int(input(\"Enter number of terms(>=2): \"))\n",
    "first = 0\n",
    "second = 1\n",
    "print(first, second, end = \" \")\n",
    "terms = terms - 2        # because 2 terms are already printed\n",
    "\n",
    "while (terms > 0):\n",
    "    next = first + second \n",
    "    first = second \n",
    "    second = next\n",
    "    print(next, end = \" \")\n",
    "    terms = terms -1\n"
   ],
   "outputs": [],
   "metadata": {}
  },
  {
   "cell_type": "code",
   "execution_count": null,
   "source": [
    "# in 1 and 50 print Fizz if i is multiple of 3, Buzz if i is multiple of 5, FizzBuzz if mutliple of both, \n",
    "# otherwise print the number itself\n",
    "for i in range(1,51):\n",
    "    if (i%3 == 0 and i%5 == 0):\n",
    "        print(\"FizzBuzz\")\n",
    "    elif (i%3 == 0):\n",
    "        print(\"Fizz\")\n",
    "    elif (i%5 == 0):\n",
    "        print(\"Buzz\")\n",
    "    else:\n",
    "        print(i)\n"
   ],
   "outputs": [],
   "metadata": {}
  },
  {
   "cell_type": "code",
   "execution_count": null,
   "source": [
    "# find if the entered character a vowel or consonant\n",
    "ch = input(\"Enter a lowercase character: \")\n",
    "if (ch == 'a' or ch == 'e' or ch == 'i' or ch == 'o' or ch == 'u'):\n",
    "    print(\"Vowel\")\n",
    "else:\n",
    "    print(\"Consonant\")"
   ],
   "outputs": [],
   "metadata": {}
  },
  {
   "cell_type": "code",
   "execution_count": null,
   "source": [
    "# check if a triangle is equilateral, isosceles, or scalene\n",
    "s1 = int(input(\"Enter side1: \"))\n",
    "s2 = int(input(\"Enter side2: \"))\n",
    "s3 = int(input(\"Enter side3: \"))\n",
    "\n",
    "if s1 == s2 == s3:\n",
    "    print(\"Equilateral\")\n",
    "elif s1 == s2 or s2 == s3 or s3 == s1:\n",
    "    print(\"Isosceles\")\n",
    "else:\n",
    "    print(\"Scalene\")"
   ],
   "outputs": [],
   "metadata": {}
  },
  {
   "cell_type": "code",
   "execution_count": null,
   "source": [
    "# reverse a string and print it without using a built in function\n",
    "s = input(\"Enter the string: \")\n",
    "\n",
    "revS = \"\"\n",
    "for i in s:\n",
    "    revS = i + revS\n",
    "print(revS)\n",
    "\n",
    "for i in range(len(s)-1,-1,-1):\n",
    "    print(s[i], end=\"\")\n",
    "print()"
   ],
   "outputs": [],
   "metadata": {}
  },
  {
   "cell_type": "code",
   "execution_count": null,
   "source": [],
   "outputs": [],
   "metadata": {}
  }
 ],
 "metadata": {
  "kernelspec": {
   "display_name": "Python 3",
   "language": "python",
   "name": "python3"
  },
  "language_info": {
   "codemirror_mode": {
    "name": "ipython",
    "version": 3
   },
   "file_extension": ".py",
   "mimetype": "text/x-python",
   "name": "python",
   "nbconvert_exporter": "python",
   "pygments_lexer": "ipython3",
   "version": "3.8.8"
  }
 },
 "nbformat": 4,
 "nbformat_minor": 5
}