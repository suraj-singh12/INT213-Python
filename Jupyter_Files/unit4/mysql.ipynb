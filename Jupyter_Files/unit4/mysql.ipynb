{
 "cells": [
  {
   "cell_type": "code",
   "execution_count": 1,
   "metadata": {},
   "outputs": [
    {
     "name": "stdout",
     "output_type": "stream",
     "text": [
      "Connected\n",
      "('information_schema',)\n",
      "('k20sd',)\n",
      "('mysql',)\n",
      "('performance_schema',)\n",
      "('sys',)\n",
      "('testingbase',)\n",
      "('students',)\n",
      "('id', b'int', 'NO', 'PRI', None, 'auto_increment')\n",
      "('name', b'varchar(20)', 'NO', '', None, '')\n",
      "('roll_no', b'int', 'NO', '', None, '')\n",
      "('phone', b'varchar(10)', 'YES', '', None, '')\n"
     ]
    }
   ],
   "source": [
    "# pip install mysql-connector-python\n",
    "import mysql.connector\n",
    "\n",
    "file = open(\"password\", 'r')\n",
    "pswrd = file.read()\n",
    "file.close()\n",
    "\n",
    "conn = mysql.connector.connect(host=\"localhost\", username=\"root\", password = pswrd, database = \"k20sd\")\n",
    "if conn.is_connected():\n",
    "    print(\"Connected\")\n",
    "\n",
    "cur = conn.cursor()\n",
    "cur.execute(\"CREATE DATABASE IF NOT EXISTS k20sd;\")\n",
    "cur.execute(\"SHOW DATABASES;\")\n",
    "for row in cur.fetchall():\n",
    "    print(row)\n",
    "\n",
    "\n",
    "cur.execute(\"CREATE TABLE IF NOT EXISTS students (\" + \\\n",
    "            \"id int auto_increment primary key,\" + \\\n",
    "            \"name varchar(20) not null,\" + \\\n",
    "            \"roll_no int not null \" +\\\n",
    "            \");\")\n",
    "\n",
    "cur.execute(\"SHOW TABLES;\")\n",
    "print(cur.fetchone())\n",
    "\n",
    "cur.execute(\"DESCRIBE students;\")\n",
    "for row in cur.fetchall():\n",
    "    print(row)\n"
   ]
  },
  {
   "cell_type": "code",
   "execution_count": 1,
   "metadata": {},
   "outputs": [
    {
     "ename": "ProgrammingError",
     "evalue": "1060 (42S21): Duplicate column name 'location'",
     "output_type": "error",
     "traceback": [
      "\u001b[0;31m---------------------------------------------------------------------------\u001b[0m",
      "\u001b[0;31mMySQLInterfaceError\u001b[0m                       Traceback (most recent call last)",
      "\u001b[0;32m~/anaconda3/lib/python3.8/site-packages/mysql/connector/connection_cext.py\u001b[0m in \u001b[0;36mcmd_query\u001b[0;34m(self, query, raw, buffered, raw_as_string)\u001b[0m\n\u001b[1;32m    516\u001b[0m                 \u001b[0mquery\u001b[0m \u001b[0;34m=\u001b[0m \u001b[0mquery\u001b[0m\u001b[0;34m.\u001b[0m\u001b[0mencode\u001b[0m\u001b[0;34m(\u001b[0m\u001b[0;34m'utf-8'\u001b[0m\u001b[0;34m)\u001b[0m\u001b[0;34m\u001b[0m\u001b[0;34m\u001b[0m\u001b[0m\n\u001b[0;32m--> 517\u001b[0;31m             self._cmysql.query(query,\n\u001b[0m\u001b[1;32m    518\u001b[0m                                \u001b[0mraw\u001b[0m\u001b[0;34m=\u001b[0m\u001b[0mraw\u001b[0m\u001b[0;34m,\u001b[0m \u001b[0mbuffered\u001b[0m\u001b[0;34m=\u001b[0m\u001b[0mbuffered\u001b[0m\u001b[0;34m,\u001b[0m\u001b[0;34m\u001b[0m\u001b[0;34m\u001b[0m\u001b[0m\n",
      "\u001b[0;31mMySQLInterfaceError\u001b[0m: Duplicate column name 'location'",
      "\nDuring handling of the above exception, another exception occurred:\n",
      "\u001b[0;31mProgrammingError\u001b[0m                          Traceback (most recent call last)",
      "\u001b[0;32m/tmp/ipykernel_3970/3630881017.py\u001b[0m in \u001b[0;36m<module>\u001b[0;34m\u001b[0m\n\u001b[1;32m      8\u001b[0m \u001b[0;34m\u001b[0m\u001b[0m\n\u001b[1;32m      9\u001b[0m \u001b[0mcur\u001b[0m \u001b[0;34m=\u001b[0m \u001b[0mconn\u001b[0m\u001b[0;34m.\u001b[0m\u001b[0mcursor\u001b[0m\u001b[0;34m(\u001b[0m\u001b[0;34m)\u001b[0m\u001b[0;34m\u001b[0m\u001b[0;34m\u001b[0m\u001b[0m\n\u001b[0;32m---> 10\u001b[0;31m \u001b[0mcur\u001b[0m\u001b[0;34m.\u001b[0m\u001b[0mexecute\u001b[0m\u001b[0;34m(\u001b[0m\u001b[0;34m\"ALTER TABLE students ADD location varchar(10);\"\u001b[0m\u001b[0;34m)\u001b[0m\u001b[0;34m\u001b[0m\u001b[0;34m\u001b[0m\u001b[0m\n\u001b[0m\u001b[1;32m     11\u001b[0m \u001b[0mcur\u001b[0m\u001b[0;34m.\u001b[0m\u001b[0mclose\u001b[0m\u001b[0;34m(\u001b[0m\u001b[0;34m)\u001b[0m\u001b[0;34m\u001b[0m\u001b[0;34m\u001b[0m\u001b[0m\n\u001b[1;32m     12\u001b[0m \u001b[0mconn\u001b[0m\u001b[0;34m.\u001b[0m\u001b[0mclose\u001b[0m\u001b[0;34m(\u001b[0m\u001b[0;34m)\u001b[0m\u001b[0;34m\u001b[0m\u001b[0;34m\u001b[0m\u001b[0m\n",
      "\u001b[0;32m~/anaconda3/lib/python3.8/site-packages/mysql/connector/cursor_cext.py\u001b[0m in \u001b[0;36mexecute\u001b[0;34m(self, operation, params, multi)\u001b[0m\n\u001b[1;32m    268\u001b[0m \u001b[0;34m\u001b[0m\u001b[0m\n\u001b[1;32m    269\u001b[0m         \u001b[0;32mtry\u001b[0m\u001b[0;34m:\u001b[0m\u001b[0;34m\u001b[0m\u001b[0;34m\u001b[0m\u001b[0m\n\u001b[0;32m--> 270\u001b[0;31m             result = self._cnx.cmd_query(stmt, raw=self._raw,\n\u001b[0m\u001b[1;32m    271\u001b[0m                                          \u001b[0mbuffered\u001b[0m\u001b[0;34m=\u001b[0m\u001b[0mself\u001b[0m\u001b[0;34m.\u001b[0m\u001b[0m_buffered\u001b[0m\u001b[0;34m,\u001b[0m\u001b[0;34m\u001b[0m\u001b[0;34m\u001b[0m\u001b[0m\n\u001b[1;32m    272\u001b[0m                                          raw_as_string=self._raw_as_string)\n",
      "\u001b[0;32m~/anaconda3/lib/python3.8/site-packages/mysql/connector/connection_cext.py\u001b[0m in \u001b[0;36mcmd_query\u001b[0;34m(self, query, raw, buffered, raw_as_string)\u001b[0m\n\u001b[1;32m    520\u001b[0m                                query_attrs=self._query_attrs)\n\u001b[1;32m    521\u001b[0m         \u001b[0;32mexcept\u001b[0m \u001b[0mMySQLInterfaceError\u001b[0m \u001b[0;32mas\u001b[0m \u001b[0mexc\u001b[0m\u001b[0;34m:\u001b[0m\u001b[0;34m\u001b[0m\u001b[0;34m\u001b[0m\u001b[0m\n\u001b[0;32m--> 522\u001b[0;31m             raise errors.get_mysql_exception(exc.errno, msg=exc.msg,\n\u001b[0m\u001b[1;32m    523\u001b[0m                                              sqlstate=exc.sqlstate)\n\u001b[1;32m    524\u001b[0m         \u001b[0;32mexcept\u001b[0m \u001b[0mAttributeError\u001b[0m\u001b[0;34m:\u001b[0m\u001b[0;34m\u001b[0m\u001b[0;34m\u001b[0m\u001b[0m\n",
      "\u001b[0;31mProgrammingError\u001b[0m: 1060 (42S21): Duplicate column name 'location'"
     ]
    }
   ],
   "source": [
    "import mysql.connector\n",
    "\n",
    "file = open(\"password\",'r')\n",
    "pswrd = file.read()\n",
    "file.close()\n",
    "\n",
    "conn = mysql.connector.connect(host = \"localhost\", user=\"root\", database = \"k20sd\", password = pswrd)\n",
    "\n",
    "cur = conn.cursor()\n",
    "cur.execute(\"ALTER TABLE students ADD location varchar(10);\")\n",
    "cur.close()\n",
    "conn.close()"
   ]
  },
  {
   "cell_type": "code",
   "execution_count": 2,
   "metadata": {},
   "outputs": [
    {
     "name": "stdout",
     "output_type": "stream",
     "text": [
      "('students',)\n",
      "\n",
      "('id', b'int', 'NO', 'PRI', None, 'auto_increment')\n",
      "('name', b'varchar(20)', 'NO', '', None, '')\n",
      "('roll_no', b'int', 'NO', '', None, '')\n",
      "('phone', b'varchar(10)', 'YES', '', None, '')\n",
      "('location', b'varchar(10)', 'YES', '', None, '')\n"
     ]
    }
   ],
   "source": [
    "import mysql.connector\n",
    "\n",
    "file = open(\"password\", 'r')\n",
    "pswrd = file.read()\n",
    "file.close()\n",
    "\n",
    "conn = mysql.connector.connect(host = \"localhost\", user = \"root\", database = \"k20sd\", password = pswrd)\n",
    "cur = conn.cursor()\n",
    "cur.execute(\"SHOW TABLES;\")\n",
    "for row in cur.fetchall():\n",
    "    print(row)\n",
    "\n",
    "print()\n",
    "cur.execute(\"DESCRIBE students;\")\n",
    "for row in cur.fetchall():\n",
    "    print(row)\n",
    "\n",
    "\n"
   ]
  },
  {
   "cell_type": "code",
   "execution_count": 18,
   "metadata": {},
   "outputs": [],
   "source": [
    "import mysql.connector\n",
    "\n",
    "file = open(\"password\", 'r')\n",
    "pswrd = file.read()\n",
    "file.close()\n",
    "\n",
    "conn = mysql.connector.connect(host = \"localhost\", user = \"root\", database = \"k20sd\", password = pswrd)\n",
    "cur = conn.cursor()\n",
    "\n",
    "# query = '''INSERT INTO students values \n",
    "# (255, 'Michael', 48, '3434435465', 'abcd');'''\n",
    "\n",
    "# cur.execute(query)\n",
    "# conn.commit()\n",
    "\n",
    "\n",
    "# inserting multiple values\n",
    "query = \"INSERT INTO students(id, name, roll_no, phone, location) values(%s,%s,%s,%s,%s)\"\n",
    "values = [(45,\"fury\", 32, \"1236547852\",\"abcd\"), (42,\"Floyd\", 32, \"1215547852\",\"abcd\")]\n",
    "\n",
    "\n",
    "# print(query%values[0])\n",
    "cur.executemany(query, values)\n",
    "conn.commit()\n",
    "\n"
   ]
  },
  {
   "cell_type": "code",
   "execution_count": 32,
   "metadata": {},
   "outputs": [
    {
     "name": "stdout",
     "output_type": "stream",
     "text": [
      "(42, 'Floyd', 32, '1215547852', 'abcd')\n",
      "(45, 'fury', 32, '1236547852', 'abcd')\n",
      "(255, 'Michael', 48, '3434435465', 'abcd')\n",
      "\n",
      "('Floyd', 32)\n",
      "('fury', 32)\n",
      "\n",
      "(42, 'Floyd', 32, '1215547852', 'abcd')\n"
     ]
    }
   ],
   "source": [
    "import mysql.connector\n",
    "\n",
    "file = open(\"password\", 'r')\n",
    "pswrd = file.read()\n",
    "file.close()\n",
    "\n",
    "conn = mysql.connector.connect(host = \"localhost\", user = \"root\", database = \"k20sd\", password = pswrd)\n",
    "cur = conn.cursor()\n",
    "\n",
    "cur.execute(\"SELECT * from students;\")\n",
    "for row in cur.fetchall():\n",
    "    print(row)\n",
    "\n",
    "print()\n",
    "\n",
    "cur.execute(\"SELECT name, roll_no from students;\")\n",
    "for row in cur.fetchmany(2):            # fetchmany(number) will fetch only specified number of results \n",
    "    print(row)\n",
    "\n",
    "# cleaning the buffers\n",
    "empty = cur.fetchall()\n",
    "\n",
    "print()\n",
    "cur.execute(\"SELECT * from students;\")\n",
    "print(cur.fetchone())"
   ]
  },
  {
   "cell_type": "code",
   "execution_count": null,
   "metadata": {},
   "outputs": [],
   "source": []
  }
 ],
 "metadata": {
  "interpreter": {
   "hash": "4abef517ba9674bba0a711b24b436908f083d341dd15bba4a601c7fa9a36111c"
  },
  "kernelspec": {
   "display_name": "Python 3.8.8 64-bit ('base': conda)",
   "language": "python",
   "name": "python3"
  },
  "language_info": {
   "codemirror_mode": {
    "name": "ipython",
    "version": 3
   },
   "file_extension": ".py",
   "mimetype": "text/x-python",
   "name": "python",
   "nbconvert_exporter": "python",
   "pygments_lexer": "ipython3",
   "version": "3.8.8"
  },
  "orig_nbformat": 4
 },
 "nbformat": 4,
 "nbformat_minor": 2
}
