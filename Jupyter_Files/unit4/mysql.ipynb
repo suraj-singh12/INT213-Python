{
 "cells": [
  {
   "cell_type": "code",
   "execution_count": 1,
   "metadata": {},
   "outputs": [],
   "source": [
    "# pip install mysql-connector-python\n",
    "import mysql.connector\n",
    "\n",
    "file = open(\"password\", 'r')\n",
    "pswrd = file.read()\n",
    "file.close()\n",
    "\n",
    "conn = mysql.connector.connect(host=\"localhost\", username=\"root\", password = pswrd, database = \"k20sd\")\n",
    "if conn.is_connected():\n",
    "    print(\"Connected\")\n",
    "\n",
    "cur = conn.cursor()\n",
    "cur.execute(\"CREATE DATABASE IF NOT EXISTS k20sd;\")\n",
    "cur.execute(\"SHOW DATABASES;\")\n",
    "for row in cur.fetchall():\n",
    "    print(row)\n",
    "\n",
    "\n",
    "cur.execute(\"CREATE TABLE IF NOT EXISTS students (\" + \\\n",
    "            \"id int auto_increment primary key,\" + \\\n",
    "            \"name varchar(20) not null,\" + \\\n",
    "            \"roll_no int not null \" +\\\n",
    "            \");\")\n",
    "\n",
    "cur.execute(\"SHOW TABLES;\")\n",
    "print(cur.fetchone())\n",
    "\n",
    "cur.execute(\"DESCRIBE students;\")\n",
    "for row in cur.fetchall():\n",
    "    print(row)\n"
   ]
  },
  {
   "cell_type": "code",
   "execution_count": null,
   "metadata": {},
   "outputs": [],
   "source": [
    "# cur.execute(\"ALTER TABLE chetan ADD COLUMN id INT PRIMARY KEY AUTO_INCREMENT\")"
   ]
  }
 ],
 "metadata": {
  "interpreter": {
   "hash": "4abef517ba9674bba0a711b24b436908f083d341dd15bba4a601c7fa9a36111c"
  },
  "kernelspec": {
   "display_name": "Python 3.8.8 64-bit ('base': conda)",
   "language": "python",
   "name": "python3"
  },
  "language_info": {
   "codemirror_mode": {
    "name": "ipython",
    "version": 3
   },
   "file_extension": ".py",
   "mimetype": "text/x-python",
   "name": "python",
   "nbconvert_exporter": "python",
   "pygments_lexer": "ipython3",
   "version": "3.8.8"
  },
  "orig_nbformat": 4
 },
 "nbformat": 4,
 "nbformat_minor": 2
}
