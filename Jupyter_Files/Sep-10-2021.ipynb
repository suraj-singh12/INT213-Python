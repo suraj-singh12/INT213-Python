{
 "cells": [
  {
   "cell_type": "code",
   "execution_count": null,
   "source": [
    "# find if the entered number is a perfect number or not\n",
    "# perfect no is that whose sum of factors except the number = the number itself\n",
    "# eg  6; factors: 1 2 3         => 1+2+3 = 6 so it is a perfect number\n",
    "\n",
    "number = int(input(\"Enter the number: \"))\n",
    "sum = 0\n",
    "\n",
    "i = 1\n",
    "# finding all the factors of the number then adding them\n",
    "while i < number:             #6\n",
    "    if number % i == 0:\n",
    "        sum += i\n",
    "    i += 1\n",
    "\n",
    "if number == sum:\n",
    "    print(number, \"is a perfect number\")\n",
    "else:\n",
    "    print(number, \"is not a perfect number\")"
   ],
   "outputs": [],
   "metadata": {}
  },
  {
   "cell_type": "code",
   "execution_count": null,
   "source": [
    "# for else loop \n"
   ],
   "outputs": [],
   "metadata": {}
  },
  {
   "cell_type": "code",
   "execution_count": null,
   "source": [
    "6\n",
    "# while else loop"
   ],
   "outputs": [],
   "metadata": {}
  },
  {
   "cell_type": "code",
   "execution_count": null,
   "source": [
    "# break statement\n",
    "\n",
    "print(\"========== break ===========\")\n",
    "for i in range(10):\n",
    "    i += 1\n",
    "    if i == 5:\n",
    "        break\n",
    "    print(i, end=\", \")\n",
    "\n",
    "# continue statement\n",
    "\n",
    "print(\"\\n========== continue ===========\")\n",
    "for i in range(10):\n",
    "    i += 1\n",
    "    if i == 5:\n",
    "        continue        # 5 will not be printed as continue says, skip this iteration\n",
    "    print(i, end=\", \")\n",
    "print(\"\\n==========================\")\n",
    "\n",
    "# pass statement\n",
    "for i in range(10):\n",
    "    pass\n",
    "print(\"\\n==========================\")"
   ],
   "outputs": [],
   "metadata": {}
  },
  {
   "cell_type": "code",
   "execution_count": null,
   "source": [
    "# check if the entered number is prime or not\n",
    "\n",
    "number = int(input(\"Enter number: \"))\n",
    "\n",
    "if number <= 1:\n",
    "    print(\"NOT Prime\")\n",
    "    quit()\n",
    "\n",
    "i = 2\n",
    "while i*i <= number:\n",
    "    if number % i == 0:\n",
    "        print(\"NOT Prime\")\n",
    "        break\n",
    "    i += 1\n",
    "\n",
    "else:\n",
    "    print(\"Prime\")"
   ],
   "outputs": [],
   "metadata": {}
  },
  {
   "cell_type": "code",
   "execution_count": null,
   "source": [
    "'''\n",
    "    Program to check if the entered number is prime or not.\n",
    "'''\n",
    "\n",
    "\n",
    "# checks if the number is prime; returns true if yes, else false\n",
    "# it is an optimised approach\n",
    "def isPrime(n):\n",
    "    if n <= 1:              # if number is <= 1; it is not prime\n",
    "        return False\n",
    "    if n == 2 or n == 3:        # if number is 2 or 3, it is prime\n",
    "        return True\n",
    "    if n % 2 == 0 or n % 3 == 0:    # if number is not 2 or 3 but is divisible by 2 or 3; it is not prime\n",
    "        return False\n",
    "    \n",
    "    i = 5               # if number is not any of the above cases, \n",
    "                        # then start dividing it by prime numbers, and see if it is divisible, if yes, then it is non-prime\n",
    "    while i*i <= n:\n",
    "        if n % i == 0 or n % (i + 2) == 0:\n",
    "            return False\n",
    "        i += 6\n",
    "\n",
    "    # if number is not divisible by the above range of mumbers, then it's prime so return true\n",
    "    return True\n",
    "\n",
    "# main function\n",
    "def main():\n",
    "    number = int(input(\"Enter a number: \"))\n",
    "    ans = isPrime(number)\n",
    "    if ans == True:\n",
    "        print(\"Yes\", number, \"is Prime.\")\n",
    "    else:\n",
    "        print(\"No\", number, \"is NOT Prime.\")\n",
    "\n",
    "\n",
    "if __name__ == \"__main__\":\n",
    "    main()"
   ],
   "outputs": [],
   "metadata": {}
  }
 ],
 "metadata": {
  "orig_nbformat": 4,
  "language_info": {
   "name": "python",
   "version": "3.8.8",
   "mimetype": "text/x-python",
   "codemirror_mode": {
    "name": "ipython",
    "version": 3
   },
   "pygments_lexer": "ipython3",
   "nbconvert_exporter": "python",
   "file_extension": ".py"
  },
  "kernelspec": {
   "name": "python3",
   "display_name": "Python 3.8.8 64-bit ('base': conda)"
  },
  "interpreter": {
   "hash": "455ab5cfbe64c0a2693a555ef07bea68f13a4fdf9ca442f254316cb18226f2df"
  }
 },
 "nbformat": 4,
 "nbformat_minor": 2
}