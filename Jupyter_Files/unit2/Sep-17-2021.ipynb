{
 "cells": [
  {
   "cell_type": "markdown",
   "source": [
    "===========\n",
    "\n",
    "UNIT 2 : Strings\n",
    "\n",
    "=========="
   ],
   "metadata": {}
  },
  {
   "cell_type": "code",
   "execution_count": null,
   "source": [
    "# strings\n",
    "\n",
    "s = \"apple\"\n",
    "\n",
    "print(s[0])\n",
    "print(s[len(s)-1])\n",
    "print(s[-1])\n",
    "\n",
    "for elem in s:\n",
    "    print(elem, end=\" \")\n",
    "\n",
    "print()\n",
    "\n",
    "i = 0 \n",
    "while i<len(s):\n",
    "    print(s[i],end=\" \")\n",
    "    i += 1\n",
    "\n",
    "print()\n",
    "\n",
    "for i in range(len(s)):\n",
    "    print(s[i],end=\" \")\n",
    "\n",
    "print()"
   ],
   "outputs": [],
   "metadata": {}
  },
  {
   "cell_type": "code",
   "execution_count": null,
   "source": [],
   "outputs": [],
   "metadata": {}
  }
 ],
 "metadata": {
  "orig_nbformat": 4,
  "language_info": {
   "name": "python"
  }
 },
 "nbformat": 4,
 "nbformat_minor": 2
}