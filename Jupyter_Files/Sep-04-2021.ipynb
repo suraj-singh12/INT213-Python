{
 "cells": [
  {
   "cell_type": "code",
   "execution_count": null,
   "source": [
    "# check if the entered char is a vowel or not\n",
    "\n",
    "vowel = \"aeiouAEIOU\"\n",
    "ch = input(\"Enter a character: \")\n",
    "if ch in vowel:\n",
    "    print(\"Vowel\")\n",
    "else:\n",
    "    print(\"Consonant\")"
   ],
   "outputs": [],
   "metadata": {}
  },
  {
   "cell_type": "code",
   "execution_count": null,
   "source": [
    "# check if the nubmer entered is divisible by 2 and 3 both\n",
    "\n",
    "number = int(input(\"Enter the number: \"))\n",
    "if number % 2 == 0 and number %3 == 0:\n",
    "    print(\"Divisible by 2 and 3 both\")\n",
    "else:\n",
    "    print(\"Not divisible by both 2 and 3\")"
   ],
   "outputs": [],
   "metadata": {}
  },
  {
   "cell_type": "code",
   "execution_count": null,
   "source": [
    "# find the oldest person of 4 \n",
    "p1 = int(input(\"Person1 Enter age: \"))\n",
    "p2 = int(input(\"Person2 Enter age: \"))\n",
    "p3 = int(input(\"Person3 Enter age: \"))\n",
    "p4 = int(input(\"Person4 Enter age: \"))\n",
    "if p1 > p2 and p1 > p3 and p1 > p4:\n",
    "    print(\"Person 1 is oldest\")\n",
    "elif p2 > p1 and p2 > p3 and p2 > p4:\n",
    "    print(\"Person 2 is oldest\")\n",
    "elif p3 > p1 and p3 > p2 and p3 > p4:\n",
    "    print(\"Person 3 is oldest\")\n",
    "else:\n",
    "    print(\"Person 4 is oldest\")\n"
   ],
   "outputs": [],
   "metadata": {}
  },
  {
   "cell_type": "code",
   "execution_count": null,
   "source": [
    "# accept percentage from user, and display its grade \n",
    "percentage = int(input(\"Enter your percentage: \"))\n",
    "\n",
    "if percentage > 80:\n",
    "    print(\"A+\")\n",
    "elif percentage > 60:\n",
    "    print(\"A\")\n",
    "elif percentage > 50:\n",
    "    print(\"B+\")\n",
    "elif percentage > 45:\n",
    "    print(\"B\")\n",
    "elif percentage > 25:\n",
    "    print(\"C\")\n",
    "else:\n",
    "    print(\"D\")\n",
    "    "
   ],
   "outputs": [],
   "metadata": {}
  },
  {
   "cell_type": "code",
   "execution_count": null,
   "source": [
    "number = int(input(\"Enter a number: \"))\n",
    "\n",
    "for i in range(1,11):\n",
    "    print(number, \"*\", i, \"=\", number * i)\n"
   ],
   "outputs": [],
   "metadata": {}
  },
  {
   "cell_type": "code",
   "execution_count": null,
   "source": [
    "# while loop (introduction): pre-testing loop\n",
    "\n",
    "i = 1              # initialisation\n",
    "while i <= 10:      # condition\n",
    "    print(i, end=\" \")        \n",
    "    i = i + 1       # updation\n"
   ],
   "outputs": [],
   "metadata": {}
  },
  {
   "cell_type": "code",
   "execution_count": null,
   "source": [
    "# print first 10 even nubmers using while loop\n",
    "i = 0\n",
    "while i <= 10:\n",
    "    print(i,end =\" \")\n",
    "    i = i+2"
   ],
   "outputs": [],
   "metadata": {}
  },
  {
   "cell_type": "code",
   "execution_count": null,
   "source": [
    "# program to print number and square of number \n",
    "i = 1\n",
    "\n",
    "while i <= 10:\n",
    "    print(i, i*i)\n",
    "    i = i+1\n"
   ],
   "outputs": [],
   "metadata": {}
  },
  {
   "cell_type": "code",
   "execution_count": null,
   "source": [
    "# print the series\n",
    "i = 10\n",
    "while i <= 300:\n",
    "    print(i, end=\", \")\n",
    "    i = i+10"
   ],
   "outputs": [],
   "metadata": {}
  },
  {
   "cell_type": "code",
   "execution_count": null,
   "source": [
    "# print fibonacci series using while loop\n",
    "# 1 1 2 3 5 8 13 ... so on\n",
    "n = int(input(\"Enter the number of terms (>=2): \"))\n",
    "\n",
    "first = 1\n",
    "second = 1\n",
    "print(first,\",\", second, end = \", \")\n",
    "while n > 2:\n",
    "    next = first + second\n",
    "    first = second \n",
    "    second = next\n",
    "    \n",
    "    print(next, end =\", \")\n",
    "    n = n-1\n"
   ],
   "outputs": [],
   "metadata": {}
  },
  {
   "cell_type": "code",
   "execution_count": null,
   "source": [
    "# check if the given number is a pallindrome or not\n",
    "number = int(input(\"Enter a number: \"))\n",
    "\n",
    "copyNum = number\n",
    "revNumber = 0\n",
    "while copyNum > 0:\n",
    "    remainder = copyNum % 10\n",
    "    revNumber = revNumber * 10 + remainder\n",
    "    copyNum = copyNum // 10\n",
    "\n",
    "if number == revNumber:\n",
    "    print(\"Pallindrome\")\n",
    "else:\n",
    "    print(\"Not Pallindrome\")\n",
    "\n"
   ],
   "outputs": [],
   "metadata": {}
  },
  {
   "cell_type": "code",
   "execution_count": null,
   "source": [
    "# Nested for loops / patterns\n",
    "'''\n",
    "    print this pattern: \n",
    "\n",
    "    *\n",
    "    **\n",
    "    ***\n",
    "    ****\n",
    "'''\n",
    "rows = range(0,4)                # as we have 4 rows\n",
    "for row in rows:       \n",
    "    for star in range(0,row+1):    # as we have i stars everytime\n",
    "        print(\"*\",end = \" \")\n",
    "    print()\n",
    "\n"
   ],
   "outputs": [],
   "metadata": {}
  },
  {
   "cell_type": "code",
   "execution_count": null,
   "source": [
    "# Nested for loops / patterns\n",
    "'''\n",
    "    print this pattern: \n",
    "\n",
    "    1\n",
    "    12\n",
    "    123\n",
    "    1234\n",
    "'''\n",
    "rows = range(1,5)                # as we have 4 rows\n",
    "for row in rows:       \n",
    "    for num in range(1,row+1):    # as we have i stars everytime\n",
    "        print(num,end = \"\")\n",
    "    print()\n",
    "\n"
   ],
   "outputs": [],
   "metadata": {}
  },
  {
   "cell_type": "code",
   "execution_count": null,
   "source": [
    "'''\n",
    "* * * * \n",
    "* * * \n",
    "* * \n",
    "* \n",
    "'''\n",
    "for row in range(0,4):\n",
    "    for star in range(4, row,-1):\n",
    "        print(\"*\",end=\" \")\n",
    "    print()\n"
   ],
   "outputs": [],
   "metadata": {}
  },
  {
   "cell_type": "code",
   "execution_count": null,
   "source": [
    "'''\n",
    "* * * * \n",
    "* * * \n",
    "* * \n",
    "* \n",
    "'''\n",
    "for row in range(4,0,-1):\n",
    "    for star in range(0,row):\n",
    "        print(\"*\",end = \" \")\n",
    "    print()\n"
   ],
   "outputs": [],
   "metadata": {}
  },
  {
   "cell_type": "code",
   "execution_count": null,
   "source": [
    "'''\n",
    "55555\n",
    "4444\n",
    "333\n",
    "22\n",
    "1\n",
    "'''\n",
    "\n",
    "for i in range(5,0,-1):\n",
    "    for j in range(i):\n",
    "        print(i,end=\" \")\n",
    "    print()"
   ],
   "outputs": [],
   "metadata": {}
  },
  {
   "cell_type": "code",
   "execution_count": null,
   "source": [],
   "outputs": [],
   "metadata": {}
  }
 ],
 "metadata": {
  "kernelspec": {
   "name": "python3",
   "display_name": "Python 3.8.8 64-bit"
  },
  "language_info": {
   "codemirror_mode": {
    "name": "ipython",
    "version": 3
   },
   "file_extension": ".py",
   "mimetype": "text/x-python",
   "name": "python",
   "nbconvert_exporter": "python",
   "pygments_lexer": "ipython3",
   "version": "3.8.8"
  },
  "interpreter": {
   "hash": "455ab5cfbe64c0a2693a555ef07bea68f13a4fdf9ca442f254316cb18226f2df"
  }
 },
 "nbformat": 4,
 "nbformat_minor": 5
}